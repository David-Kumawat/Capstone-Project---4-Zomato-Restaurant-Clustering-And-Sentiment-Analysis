{
  "nbformat": 4,
  "nbformat_minor": 0,
  "metadata": {
    "colab": {
      "provenance": [],
      "collapsed_sections": [
        "vncDsAP0Gaoa",
        "FJNUwmbgGyua",
        "w6K7xa23Elo4",
        "yQaldy8SH6Dl",
        "mDgbUHAGgjLW",
        "O_i_v8NEhb9l",
        "HhfV-JJviCcP",
        "Y3lxredqlCYt",
        "3RnN4peoiCZX",
        "x71ZqKXriCWQ",
        "7hBIi_osiCS2",
        "JlHwYmJAmNHm",
        "35m5QtbWiB9F",
        "PoPl-ycgm1ru",
        "H0kj-8xxnORC",
        "nA9Y7ga8ng1Z",
        "PBTbrJXOngz2",
        "u3PMJOP6ngxN",
        "dauF4eBmngu3",
        "bKJF3rekwFvQ",
        "MSa1f5Uengrz",
        "GF8Ens_Soomf",
        "0wOQAZs5pc--",
        "K5QZ13OEpz2H",
        "lQ7QKXXCp7Bj",
        "448CDAPjqfQr",
        "KSlN3yHqYklG",
        "t6dVpIINYklI",
        "ijmpgYnKYklI",
        "-JiQyfWJYklI",
        "EM7whBJCYoAo",
        "fge-S5ZAYoAp",
        "85gYPyotYoAp",
        "RoGjAbkUYoAp",
        "4Of9eVA-YrdM",
        "iky9q4vBYrdO",
        "F6T5p64dYrdO",
        "y-Ehk30pYrdP",
        "bamQiAODYuh1",
        "QHF8YVU7Yuh3",
        "GwzvFGzlYuh3",
        "qYpmQ266Yuh3",
        "OH-pJp9IphqM",
        "bbFf2-_FphqN",
        "_ouA3fa0phqN",
        "Seke61FWphqN",
        "PIIx-8_IphqN",
        "t27r6nlMphqO",
        "r2jJGEOYphqO",
        "b0JNsNcRphqO",
        "BZR9WyysphqO",
        "jj7wYXLtphqO",
        "eZrbJ2SmphqO",
        "rFu4xreNphqO",
        "YJ55k-q6phqO",
        "gCFgpxoyphqP",
        "OVtJsKN_phqQ",
        "lssrdh5qphqQ",
        "U2RJ9gkRphqQ",
        "1M8mcRywphqQ",
        "tgIPom80phqQ",
        "JMzcOPDDphqR",
        "x-EpHcCOp1ci",
        "X_VqEhTip1ck",
        "8zGJKyg5p1ck",
        "PVzmfK_Ep1ck",
        "n3dbpmDWp1ck",
        "ylSl6qgtp1ck",
        "ZWILFDl5p1ck",
        "M7G43BXep1ck",
        "Ag9LCva-p1cl",
        "E6MkPsBcp1cl",
        "2cELzS2fp1cl",
        "3MPXvC8up1cl",
        "NC_X3p0fY2L0",
        "UV0SzAkaZNRQ",
        "YPEH6qLeZNRQ",
        "q29F0dvdveiT",
        "EXh0U9oCveiU",
        "22aHeOlLveiV",
        "g-ATYxFrGrvw",
        "Yfr_Vlr8HBkt",
        "8yEUt7NnHlrM",
        "tEA2Xm5dHt1r",
        "I79__PHVH19G",
        "Ou-I18pAyIpj",
        "fF3858GYyt-u",
        "4_0_7-oCpUZd",
        "hwyV_J3ipUZe",
        "3yB-zSqbpUZe",
        "dEUvejAfpUZe",
        "Fd15vwWVpUZf",
        "bn_IUdTipZyH",
        "49K5P_iCpZyH",
        "Nff-vKELpZyI",
        "kLW572S8pZyI",
        "dWbDXHzopZyI",
        "yLjJCtPM0KBk",
        "xiyOF9F70UgQ",
        "7wuGOrhz0itI",
        "id1riN9m0vUs",
        "578E2V7j08f6",
        "89xtkJwZ18nB",
        "67NQN5KX2AMe",
        "Iwf50b-R2tYG",
        "GMQiZwjn3iu7",
        "WVIkgGqN3qsr",
        "XkPnILGE3zoT",
        "Hlsf0x5436Go",
        "mT9DMSJo4nBL",
        "c49ITxTc407N",
        "OeJFEK0N496M",
        "9ExmJH0g5HBk",
        "cJNqERVU536h",
        "k5UmGsbsOxih",
        "T0VqWOYE6DLQ",
        "qBMux9mC6MCf",
        "-oLEiFgy-5Pf",
        "C74aWNz2AliB",
        "2DejudWSA-a0",
        "pEMng2IbBLp7",
        "rAdphbQ9Bhjc",
        "TNVZ9zx19K6k",
        "nqoHp30x9hH9",
        "rMDnDkt2B6du",
        "yiiVWRdJDDil",
        "1UUpS68QDMuG",
        "kexQrXU-DjzY",
        "T5CmagL3EC8N",
        "BhH2vgX9EjGr",
        "qjKvONjwE8ra",
        "P1XJ9OREExlT",
        "VFOzZv6IFROw",
        "TIqpNgepFxVj",
        "VfCC591jGiD4",
        "OB4l2ZhMeS1U",
        "ArJBuiUVfxKd",
        "4qY1EAkEfxKe",
        "PiV4Ypx8fxKe",
        "TfvqoZmBfxKf",
        "dJ2tPlVmpsJ0",
        "JWYfwnehpsJ1",
        "-jK_YjpMpsJ2",
        "HAih1iBOpsJ2",
        "zVGeBEFhpsJ2",
        "bmKjuQ-FpsJ3",
        "Fze-IPXLpx6K",
        "7AN1z2sKpx6M",
        "9PIHJqyupx6M",
        "_-qAgymDpx6N",
        "Z-hykwinpx6N",
        "h_CCil-SKHpo",
        "cBFFvTBNJzUa",
        "HvGl1hHyA_VK",
        "EyNgTHvd2WFk",
        "KH5McJBi2d8v",
        "iW_Lq9qf2h6X",
        "-Kee-DAl2viO",
        "gCX9965dhzqZ",
        "gIfDvo9L0UH2"
      ],
      "include_colab_link": true
    },
    "kernelspec": {
      "name": "python3",
      "display_name": "Python 3"
    },
    "language_info": {
      "name": "python"
    }
  },
  "cells": [
    {
      "cell_type": "markdown",
      "metadata": {
        "id": "view-in-github",
        "colab_type": "text"
      },
      "source": [
        "<a href=\"https://colab.research.google.com/github/David-Kumawat/Capstone-Project---4-Zomato-Restaurant-Clustering-And-Sentiment-Analysis/blob/main/Unsupervised_Zomato_Restaurant_Clustering_And_Sentiment_Analysis.ipynb\" target=\"_parent\"><img src=\"https://colab.research.google.com/assets/colab-badge.svg\" alt=\"Open In Colab\"/></a>"
      ]
    },
    {
      "cell_type": "markdown",
      "source": [
        "# **Project Name**    - Zomato Restaurant Clustering And Sentiment Analysis\n",
        "\n"
      ],
      "metadata": {
        "id": "vncDsAP0Gaoa"
      }
    },
    {
      "cell_type": "markdown",
      "source": [
        "##### **Project Type**    - Unsupervised\n",
        "##### **Contribution**    - Individual"
      ],
      "metadata": {
        "id": "beRrZCGUAJYm"
      }
    },
    {
      "cell_type": "markdown",
      "source": [
        "# **GitHub Link -**"
      ],
      "metadata": {
        "id": "w6K7xa23Elo4"
      }
    },
    {
      "cell_type": "markdown",
      "source": [
        "https://github.com/David-Kumawat/Capstone-Project---4-Zomato-Restaurant-Clustering-And-Sentiment-Analysis"
      ],
      "metadata": {
        "id": "h1o69JH3Eqqn"
      }
    },
    {
      "cell_type": "markdown",
      "source": [
        "# **Problem Statement**\n"
      ],
      "metadata": {
        "id": "yQaldy8SH6Dl"
      }
    },
    {
      "cell_type": "markdown",
      "source": [
        "![Problem statement of unsupervised.png](data:image/png;base64,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)\n"
      ],
      "metadata": {
        "id": "DpeJGUA3kjGy"
      }
    },
    {
      "cell_type": "markdown",
      "source": [
        "![Features of Restaurant Data(Unsupervised).png](data:image/png;base64,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)"
      ],
      "metadata": {
        "id": "XSBfLfCxhxaM"
      }
    },
    {
      "cell_type": "markdown",
      "source": [
        "![Features of Review Data(Unsupervised).png](data:image/png;base64,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)"
      ],
      "metadata": {
        "id": "_bc_K3bIi_tb"
      }
    },
    {
      "cell_type": "markdown",
      "source": [
        "# ***Let's Begin !***"
      ],
      "metadata": {
        "id": "O_i_v8NEhb9l"
      }
    },
    {
      "cell_type": "markdown",
      "source": [
        "## ***1. Know Your Data***"
      ],
      "metadata": {
        "id": "HhfV-JJviCcP"
      }
    },
    {
      "cell_type": "markdown",
      "source": [
        "### Import Libraries"
      ],
      "metadata": {
        "id": "Y3lxredqlCYt"
      }
    },
    {
      "cell_type": "code",
      "source": [
        "# Import Libraries\n",
        "import pandas as pd\n",
        "import numpy as np\n",
        "import seaborn as sns\n",
        "import matplotlib.pyplot as plt\n",
        "%matplotlib inline\n"
      ],
      "metadata": {
        "id": "M8Vqi-pPk-HR"
      },
      "execution_count": 1,
      "outputs": []
    },
    {
      "cell_type": "markdown",
      "source": [
        "### Dataset Loading"
      ],
      "metadata": {
        "id": "3RnN4peoiCZX"
      }
    },
    {
      "cell_type": "code",
      "source": [
        "# Mount the drive\n",
        "from google.colab import drive\n",
        "drive.mount('/content/drive')"
      ],
      "metadata": {
        "colab": {
          "base_uri": "https://localhost:8080/"
        },
        "id": "UzJPcG6IlDSD",
        "outputId": "cb88899c-2f21-483a-cd9c-c1378d7e6d99"
      },
      "execution_count": 2,
      "outputs": [
        {
          "output_type": "stream",
          "name": "stdout",
          "text": [
            "Mounted at /content/drive\n"
          ]
        }
      ]
    },
    {
      "cell_type": "code",
      "source": [
        "# Load Dataset\n",
        "rest_df = pd.read_csv('/content/drive/MyDrive/Capstone Project(Unsupervised)/Zomato Restaurant names and Metadata.csv')\n",
        "reviews_df = pd.read_csv('/content/drive/MyDrive/Capstone Project(Unsupervised)/Zomato Restaurant reviews.csv')"
      ],
      "metadata": {
        "id": "4CkvbW_SlZ_R"
      },
      "execution_count": 3,
      "outputs": []
    },
    {
      "cell_type": "markdown",
      "source": [
        "### Dataset First View"
      ],
      "metadata": {
        "id": "x71ZqKXriCWQ"
      }
    },
    {
      "cell_type": "code",
      "source": [
        "# Restaurant Dataset First Look\n",
        "rest_df.head()"
      ],
      "metadata": {
        "id": "LWNFOSvLl09H",
        "colab": {
          "base_uri": "https://localhost:8080/",
          "height": 293
        },
        "outputId": "8668b0f2-4cf8-4305-8ffb-831f8c21fb21"
      },
      "execution_count": 4,
      "outputs": [
        {
          "output_type": "execute_result",
          "data": {
            "text/plain": [
              "                             Name  \\\n",
              "0                 Beyond Flavours   \n",
              "1                        Paradise   \n",
              "2                        Flechazo   \n",
              "3  Shah Ghouse Hotel & Restaurant   \n",
              "4      Over The Moon Brew Company   \n",
              "\n",
              "                                               Links   Cost  \\\n",
              "0  https://www.zomato.com/hyderabad/beyond-flavou...    800   \n",
              "1  https://www.zomato.com/hyderabad/paradise-gach...    800   \n",
              "2  https://www.zomato.com/hyderabad/flechazo-gach...  1,300   \n",
              "3  https://www.zomato.com/hyderabad/shah-ghouse-h...    800   \n",
              "4  https://www.zomato.com/hyderabad/over-the-moon...  1,200   \n",
              "\n",
              "                                         Collections  \\\n",
              "0  Food Hygiene Rated Restaurants in Hyderabad, C...   \n",
              "1                                Hyderabad's Hottest   \n",
              "2                 Great Buffets, Hyderabad's Hottest   \n",
              "3                             Late Night Restaurants   \n",
              "4  Best Bars & Pubs, Food Hygiene Rated Restauran...   \n",
              "\n",
              "                                            Cuisines  \\\n",
              "0  Chinese, Continental, Kebab, European, South I...   \n",
              "1                     Biryani, North Indian, Chinese   \n",
              "2       Asian, Mediterranean, North Indian, Desserts   \n",
              "3  Biryani, North Indian, Chinese, Seafood, Bever...   \n",
              "4  Asian, Continental, North Indian, Chinese, Med...   \n",
              "\n",
              "                                             Timings  \n",
              "0      12noon to 3:30pm, 6:30pm to 11:30pm (Mon-Sun)  \n",
              "1                                     11 AM to 11 PM  \n",
              "2              11:30 AM to 4:30 PM, 6:30 PM to 11 PM  \n",
              "3                                    12 Noon to 2 AM  \n",
              "4  12noon to 11pm (Mon, Tue, Wed, Thu, Sun), 12no...  "
            ],
            "text/html": [
              "\n",
              "  <div id=\"df-e7717253-d0ff-4b6a-9c63-b9cf5a663325\" class=\"colab-df-container\">\n",
              "    <div>\n",
              "<style scoped>\n",
              "    .dataframe tbody tr th:only-of-type {\n",
              "        vertical-align: middle;\n",
              "    }\n",
              "\n",
              "    .dataframe tbody tr th {\n",
              "        vertical-align: top;\n",
              "    }\n",
              "\n",
              "    .dataframe thead th {\n",
              "        text-align: right;\n",
              "    }\n",
              "</style>\n",
              "<table border=\"1\" class=\"dataframe\">\n",
              "  <thead>\n",
              "    <tr style=\"text-align: right;\">\n",
              "      <th></th>\n",
              "      <th>Name</th>\n",
              "      <th>Links</th>\n",
              "      <th>Cost</th>\n",
              "      <th>Collections</th>\n",
              "      <th>Cuisines</th>\n",
              "      <th>Timings</th>\n",
              "    </tr>\n",
              "  </thead>\n",
              "  <tbody>\n",
              "    <tr>\n",
              "      <th>0</th>\n",
              "      <td>Beyond Flavours</td>\n",
              "      <td>https://www.zomato.com/hyderabad/beyond-flavou...</td>\n",
              "      <td>800</td>\n",
              "      <td>Food Hygiene Rated Restaurants in Hyderabad, C...</td>\n",
              "      <td>Chinese, Continental, Kebab, European, South I...</td>\n",
              "      <td>12noon to 3:30pm, 6:30pm to 11:30pm (Mon-Sun)</td>\n",
              "    </tr>\n",
              "    <tr>\n",
              "      <th>1</th>\n",
              "      <td>Paradise</td>\n",
              "      <td>https://www.zomato.com/hyderabad/paradise-gach...</td>\n",
              "      <td>800</td>\n",
              "      <td>Hyderabad's Hottest</td>\n",
              "      <td>Biryani, North Indian, Chinese</td>\n",
              "      <td>11 AM to 11 PM</td>\n",
              "    </tr>\n",
              "    <tr>\n",
              "      <th>2</th>\n",
              "      <td>Flechazo</td>\n",
              "      <td>https://www.zomato.com/hyderabad/flechazo-gach...</td>\n",
              "      <td>1,300</td>\n",
              "      <td>Great Buffets, Hyderabad's Hottest</td>\n",
              "      <td>Asian, Mediterranean, North Indian, Desserts</td>\n",
              "      <td>11:30 AM to 4:30 PM, 6:30 PM to 11 PM</td>\n",
              "    </tr>\n",
              "    <tr>\n",
              "      <th>3</th>\n",
              "      <td>Shah Ghouse Hotel &amp; Restaurant</td>\n",
              "      <td>https://www.zomato.com/hyderabad/shah-ghouse-h...</td>\n",
              "      <td>800</td>\n",
              "      <td>Late Night Restaurants</td>\n",
              "      <td>Biryani, North Indian, Chinese, Seafood, Bever...</td>\n",
              "      <td>12 Noon to 2 AM</td>\n",
              "    </tr>\n",
              "    <tr>\n",
              "      <th>4</th>\n",
              "      <td>Over The Moon Brew Company</td>\n",
              "      <td>https://www.zomato.com/hyderabad/over-the-moon...</td>\n",
              "      <td>1,200</td>\n",
              "      <td>Best Bars &amp; Pubs, Food Hygiene Rated Restauran...</td>\n",
              "      <td>Asian, Continental, North Indian, Chinese, Med...</td>\n",
              "      <td>12noon to 11pm (Mon, Tue, Wed, Thu, Sun), 12no...</td>\n",
              "    </tr>\n",
              "  </tbody>\n",
              "</table>\n",
              "</div>\n",
              "    <div class=\"colab-df-buttons\">\n",
              "\n",
              "  <div class=\"colab-df-container\">\n",
              "    <button class=\"colab-df-convert\" onclick=\"convertToInteractive('df-e7717253-d0ff-4b6a-9c63-b9cf5a663325')\"\n",
              "            title=\"Convert this dataframe to an interactive table.\"\n",
              "            style=\"display:none;\">\n",
              "\n",
              "  <svg xmlns=\"http://www.w3.org/2000/svg\" height=\"24px\" viewBox=\"0 -960 960 960\">\n",
              "    <path d=\"M120-120v-720h720v720H120Zm60-500h600v-160H180v160Zm220 220h160v-160H400v160Zm0 220h160v-160H400v160ZM180-400h160v-160H180v160Zm440 0h160v-160H620v160ZM180-180h160v-160H180v160Zm440 0h160v-160H620v160Z\"/>\n",
              "  </svg>\n",
              "    </button>\n",
              "\n",
              "  <style>\n",
              "    .colab-df-container {\n",
              "      display:flex;\n",
              "      gap: 12px;\n",
              "    }\n",
              "\n",
              "    .colab-df-convert {\n",
              "      background-color: #E8F0FE;\n",
              "      border: none;\n",
              "      border-radius: 50%;\n",
              "      cursor: pointer;\n",
              "      display: none;\n",
              "      fill: #1967D2;\n",
              "      height: 32px;\n",
              "      padding: 0 0 0 0;\n",
              "      width: 32px;\n",
              "    }\n",
              "\n",
              "    .colab-df-convert:hover {\n",
              "      background-color: #E2EBFA;\n",
              "      box-shadow: 0px 1px 2px rgba(60, 64, 67, 0.3), 0px 1px 3px 1px rgba(60, 64, 67, 0.15);\n",
              "      fill: #174EA6;\n",
              "    }\n",
              "\n",
              "    .colab-df-buttons div {\n",
              "      margin-bottom: 4px;\n",
              "    }\n",
              "\n",
              "    [theme=dark] .colab-df-convert {\n",
              "      background-color: #3B4455;\n",
              "      fill: #D2E3FC;\n",
              "    }\n",
              "\n",
              "    [theme=dark] .colab-df-convert:hover {\n",
              "      background-color: #434B5C;\n",
              "      box-shadow: 0px 1px 3px 1px rgba(0, 0, 0, 0.15);\n",
              "      filter: drop-shadow(0px 1px 2px rgba(0, 0, 0, 0.3));\n",
              "      fill: #FFFFFF;\n",
              "    }\n",
              "  </style>\n",
              "\n",
              "    <script>\n",
              "      const buttonEl =\n",
              "        document.querySelector('#df-e7717253-d0ff-4b6a-9c63-b9cf5a663325 button.colab-df-convert');\n",
              "      buttonEl.style.display =\n",
              "        google.colab.kernel.accessAllowed ? 'block' : 'none';\n",
              "\n",
              "      async function convertToInteractive(key) {\n",
              "        const element = document.querySelector('#df-e7717253-d0ff-4b6a-9c63-b9cf5a663325');\n",
              "        const dataTable =\n",
              "          await google.colab.kernel.invokeFunction('convertToInteractive',\n",
              "                                                    [key], {});\n",
              "        if (!dataTable) return;\n",
              "\n",
              "        const docLinkHtml = 'Like what you see? Visit the ' +\n",
              "          '<a target=\"_blank\" href=https://colab.research.google.com/notebooks/data_table.ipynb>data table notebook</a>'\n",
              "          + ' to learn more about interactive tables.';\n",
              "        element.innerHTML = '';\n",
              "        dataTable['output_type'] = 'display_data';\n",
              "        await google.colab.output.renderOutput(dataTable, element);\n",
              "        const docLink = document.createElement('div');\n",
              "        docLink.innerHTML = docLinkHtml;\n",
              "        element.appendChild(docLink);\n",
              "      }\n",
              "    </script>\n",
              "  </div>\n",
              "\n",
              "\n",
              "<div id=\"df-653bf5ca-5b0b-4f37-9771-a580873e1be5\">\n",
              "  <button class=\"colab-df-quickchart\" onclick=\"quickchart('df-653bf5ca-5b0b-4f37-9771-a580873e1be5')\"\n",
              "            title=\"Suggest charts\"\n",
              "            style=\"display:none;\">\n",
              "\n",
              "<svg xmlns=\"http://www.w3.org/2000/svg\" height=\"24px\"viewBox=\"0 0 24 24\"\n",
              "     width=\"24px\">\n",
              "    <g>\n",
              "        <path d=\"M19 3H5c-1.1 0-2 .9-2 2v14c0 1.1.9 2 2 2h14c1.1 0 2-.9 2-2V5c0-1.1-.9-2-2-2zM9 17H7v-7h2v7zm4 0h-2V7h2v10zm4 0h-2v-4h2v4z\"/>\n",
              "    </g>\n",
              "</svg>\n",
              "  </button>\n",
              "\n",
              "<style>\n",
              "  .colab-df-quickchart {\n",
              "      --bg-color: #E8F0FE;\n",
              "      --fill-color: #1967D2;\n",
              "      --hover-bg-color: #E2EBFA;\n",
              "      --hover-fill-color: #174EA6;\n",
              "      --disabled-fill-color: #AAA;\n",
              "      --disabled-bg-color: #DDD;\n",
              "  }\n",
              "\n",
              "  [theme=dark] .colab-df-quickchart {\n",
              "      --bg-color: #3B4455;\n",
              "      --fill-color: #D2E3FC;\n",
              "      --hover-bg-color: #434B5C;\n",
              "      --hover-fill-color: #FFFFFF;\n",
              "      --disabled-bg-color: #3B4455;\n",
              "      --disabled-fill-color: #666;\n",
              "  }\n",
              "\n",
              "  .colab-df-quickchart {\n",
              "    background-color: var(--bg-color);\n",
              "    border: none;\n",
              "    border-radius: 50%;\n",
              "    cursor: pointer;\n",
              "    display: none;\n",
              "    fill: var(--fill-color);\n",
              "    height: 32px;\n",
              "    padding: 0;\n",
              "    width: 32px;\n",
              "  }\n",
              "\n",
              "  .colab-df-quickchart:hover {\n",
              "    background-color: var(--hover-bg-color);\n",
              "    box-shadow: 0 1px 2px rgba(60, 64, 67, 0.3), 0 1px 3px 1px rgba(60, 64, 67, 0.15);\n",
              "    fill: var(--button-hover-fill-color);\n",
              "  }\n",
              "\n",
              "  .colab-df-quickchart-complete:disabled,\n",
              "  .colab-df-quickchart-complete:disabled:hover {\n",
              "    background-color: var(--disabled-bg-color);\n",
              "    fill: var(--disabled-fill-color);\n",
              "    box-shadow: none;\n",
              "  }\n",
              "\n",
              "  .colab-df-spinner {\n",
              "    border: 2px solid var(--fill-color);\n",
              "    border-color: transparent;\n",
              "    border-bottom-color: var(--fill-color);\n",
              "    animation:\n",
              "      spin 1s steps(1) infinite;\n",
              "  }\n",
              "\n",
              "  @keyframes spin {\n",
              "    0% {\n",
              "      border-color: transparent;\n",
              "      border-bottom-color: var(--fill-color);\n",
              "      border-left-color: var(--fill-color);\n",
              "    }\n",
              "    20% {\n",
              "      border-color: transparent;\n",
              "      border-left-color: var(--fill-color);\n",
              "      border-top-color: var(--fill-color);\n",
              "    }\n",
              "    30% {\n",
              "      border-color: transparent;\n",
              "      border-left-color: var(--fill-color);\n",
              "      border-top-color: var(--fill-color);\n",
              "      border-right-color: var(--fill-color);\n",
              "    }\n",
              "    40% {\n",
              "      border-color: transparent;\n",
              "      border-right-color: var(--fill-color);\n",
              "      border-top-color: var(--fill-color);\n",
              "    }\n",
              "    60% {\n",
              "      border-color: transparent;\n",
              "      border-right-color: var(--fill-color);\n",
              "    }\n",
              "    80% {\n",
              "      border-color: transparent;\n",
              "      border-right-color: var(--fill-color);\n",
              "      border-bottom-color: var(--fill-color);\n",
              "    }\n",
              "    90% {\n",
              "      border-color: transparent;\n",
              "      border-bottom-color: var(--fill-color);\n",
              "    }\n",
              "  }\n",
              "</style>\n",
              "\n",
              "  <script>\n",
              "    async function quickchart(key) {\n",
              "      const quickchartButtonEl =\n",
              "        document.querySelector('#' + key + ' button');\n",
              "      quickchartButtonEl.disabled = true;  // To prevent multiple clicks.\n",
              "      quickchartButtonEl.classList.add('colab-df-spinner');\n",
              "      try {\n",
              "        const charts = await google.colab.kernel.invokeFunction(\n",
              "            'suggestCharts', [key], {});\n",
              "      } catch (error) {\n",
              "        console.error('Error during call to suggestCharts:', error);\n",
              "      }\n",
              "      quickchartButtonEl.classList.remove('colab-df-spinner');\n",
              "      quickchartButtonEl.classList.add('colab-df-quickchart-complete');\n",
              "    }\n",
              "    (() => {\n",
              "      let quickchartButtonEl =\n",
              "        document.querySelector('#df-653bf5ca-5b0b-4f37-9771-a580873e1be5 button');\n",
              "      quickchartButtonEl.style.display =\n",
              "        google.colab.kernel.accessAllowed ? 'block' : 'none';\n",
              "    })();\n",
              "  </script>\n",
              "</div>\n",
              "\n",
              "    </div>\n",
              "  </div>\n"
            ]
          },
          "metadata": {},
          "execution_count": 4
        }
      ]
    },
    {
      "cell_type": "code",
      "source": [
        "# Reviews dataset First Look\n",
        "reviews_df.head()"
      ],
      "metadata": {
        "colab": {
          "base_uri": "https://localhost:8080/",
          "height": 206
        },
        "id": "cty-tafPmoMN",
        "outputId": "6a0d55de-5fc7-4a6e-873c-10c8c444df57"
      },
      "execution_count": 5,
      "outputs": [
        {
          "output_type": "execute_result",
          "data": {
            "text/plain": [
              "        Restaurant              Reviewer  \\\n",
              "0  Beyond Flavours     Rusha Chakraborty   \n",
              "1  Beyond Flavours  Anusha Tirumalaneedi   \n",
              "2  Beyond Flavours       Ashok Shekhawat   \n",
              "3  Beyond Flavours        Swapnil Sarkar   \n",
              "4  Beyond Flavours                Dileep   \n",
              "\n",
              "                                              Review Rating  \\\n",
              "0  The ambience was good, food was quite good . h...      5   \n",
              "1  Ambience is too good for a pleasant evening. S...      5   \n",
              "2  A must try.. great food great ambience. Thnx f...      5   \n",
              "3  Soumen das and Arun was a great guy. Only beca...      5   \n",
              "4  Food is good.we ordered Kodi drumsticks and ba...      5   \n",
              "\n",
              "                  Metadata             Time  Pictures  \n",
              "0   1 Review , 2 Followers  5/25/2019 15:54         0  \n",
              "1  3 Reviews , 2 Followers  5/25/2019 14:20         0  \n",
              "2  2 Reviews , 3 Followers  5/24/2019 22:54         0  \n",
              "3    1 Review , 1 Follower  5/24/2019 22:11         0  \n",
              "4  3 Reviews , 2 Followers  5/24/2019 21:37         0  "
            ],
            "text/html": [
              "\n",
              "  <div id=\"df-0fe17f7d-b06f-4fe8-ab56-c07fab0ef461\" class=\"colab-df-container\">\n",
              "    <div>\n",
              "<style scoped>\n",
              "    .dataframe tbody tr th:only-of-type {\n",
              "        vertical-align: middle;\n",
              "    }\n",
              "\n",
              "    .dataframe tbody tr th {\n",
              "        vertical-align: top;\n",
              "    }\n",
              "\n",
              "    .dataframe thead th {\n",
              "        text-align: right;\n",
              "    }\n",
              "</style>\n",
              "<table border=\"1\" class=\"dataframe\">\n",
              "  <thead>\n",
              "    <tr style=\"text-align: right;\">\n",
              "      <th></th>\n",
              "      <th>Restaurant</th>\n",
              "      <th>Reviewer</th>\n",
              "      <th>Review</th>\n",
              "      <th>Rating</th>\n",
              "      <th>Metadata</th>\n",
              "      <th>Time</th>\n",
              "      <th>Pictures</th>\n",
              "    </tr>\n",
              "  </thead>\n",
              "  <tbody>\n",
              "    <tr>\n",
              "      <th>0</th>\n",
              "      <td>Beyond Flavours</td>\n",
              "      <td>Rusha Chakraborty</td>\n",
              "      <td>The ambience was good, food was quite good . h...</td>\n",
              "      <td>5</td>\n",
              "      <td>1 Review , 2 Followers</td>\n",
              "      <td>5/25/2019 15:54</td>\n",
              "      <td>0</td>\n",
              "    </tr>\n",
              "    <tr>\n",
              "      <th>1</th>\n",
              "      <td>Beyond Flavours</td>\n",
              "      <td>Anusha Tirumalaneedi</td>\n",
              "      <td>Ambience is too good for a pleasant evening. S...</td>\n",
              "      <td>5</td>\n",
              "      <td>3 Reviews , 2 Followers</td>\n",
              "      <td>5/25/2019 14:20</td>\n",
              "      <td>0</td>\n",
              "    </tr>\n",
              "    <tr>\n",
              "      <th>2</th>\n",
              "      <td>Beyond Flavours</td>\n",
              "      <td>Ashok Shekhawat</td>\n",
              "      <td>A must try.. great food great ambience. Thnx f...</td>\n",
              "      <td>5</td>\n",
              "      <td>2 Reviews , 3 Followers</td>\n",
              "      <td>5/24/2019 22:54</td>\n",
              "      <td>0</td>\n",
              "    </tr>\n",
              "    <tr>\n",
              "      <th>3</th>\n",
              "      <td>Beyond Flavours</td>\n",
              "      <td>Swapnil Sarkar</td>\n",
              "      <td>Soumen das and Arun was a great guy. Only beca...</td>\n",
              "      <td>5</td>\n",
              "      <td>1 Review , 1 Follower</td>\n",
              "      <td>5/24/2019 22:11</td>\n",
              "      <td>0</td>\n",
              "    </tr>\n",
              "    <tr>\n",
              "      <th>4</th>\n",
              "      <td>Beyond Flavours</td>\n",
              "      <td>Dileep</td>\n",
              "      <td>Food is good.we ordered Kodi drumsticks and ba...</td>\n",
              "      <td>5</td>\n",
              "      <td>3 Reviews , 2 Followers</td>\n",
              "      <td>5/24/2019 21:37</td>\n",
              "      <td>0</td>\n",
              "    </tr>\n",
              "  </tbody>\n",
              "</table>\n",
              "</div>\n",
              "    <div class=\"colab-df-buttons\">\n",
              "\n",
              "  <div class=\"colab-df-container\">\n",
              "    <button class=\"colab-df-convert\" onclick=\"convertToInteractive('df-0fe17f7d-b06f-4fe8-ab56-c07fab0ef461')\"\n",
              "            title=\"Convert this dataframe to an interactive table.\"\n",
              "            style=\"display:none;\">\n",
              "\n",
              "  <svg xmlns=\"http://www.w3.org/2000/svg\" height=\"24px\" viewBox=\"0 -960 960 960\">\n",
              "    <path d=\"M120-120v-720h720v720H120Zm60-500h600v-160H180v160Zm220 220h160v-160H400v160Zm0 220h160v-160H400v160ZM180-400h160v-160H180v160Zm440 0h160v-160H620v160ZM180-180h160v-160H180v160Zm440 0h160v-160H620v160Z\"/>\n",
              "  </svg>\n",
              "    </button>\n",
              "\n",
              "  <style>\n",
              "    .colab-df-container {\n",
              "      display:flex;\n",
              "      gap: 12px;\n",
              "    }\n",
              "\n",
              "    .colab-df-convert {\n",
              "      background-color: #E8F0FE;\n",
              "      border: none;\n",
              "      border-radius: 50%;\n",
              "      cursor: pointer;\n",
              "      display: none;\n",
              "      fill: #1967D2;\n",
              "      height: 32px;\n",
              "      padding: 0 0 0 0;\n",
              "      width: 32px;\n",
              "    }\n",
              "\n",
              "    .colab-df-convert:hover {\n",
              "      background-color: #E2EBFA;\n",
              "      box-shadow: 0px 1px 2px rgba(60, 64, 67, 0.3), 0px 1px 3px 1px rgba(60, 64, 67, 0.15);\n",
              "      fill: #174EA6;\n",
              "    }\n",
              "\n",
              "    .colab-df-buttons div {\n",
              "      margin-bottom: 4px;\n",
              "    }\n",
              "\n",
              "    [theme=dark] .colab-df-convert {\n",
              "      background-color: #3B4455;\n",
              "      fill: #D2E3FC;\n",
              "    }\n",
              "\n",
              "    [theme=dark] .colab-df-convert:hover {\n",
              "      background-color: #434B5C;\n",
              "      box-shadow: 0px 1px 3px 1px rgba(0, 0, 0, 0.15);\n",
              "      filter: drop-shadow(0px 1px 2px rgba(0, 0, 0, 0.3));\n",
              "      fill: #FFFFFF;\n",
              "    }\n",
              "  </style>\n",
              "\n",
              "    <script>\n",
              "      const buttonEl =\n",
              "        document.querySelector('#df-0fe17f7d-b06f-4fe8-ab56-c07fab0ef461 button.colab-df-convert');\n",
              "      buttonEl.style.display =\n",
              "        google.colab.kernel.accessAllowed ? 'block' : 'none';\n",
              "\n",
              "      async function convertToInteractive(key) {\n",
              "        const element = document.querySelector('#df-0fe17f7d-b06f-4fe8-ab56-c07fab0ef461');\n",
              "        const dataTable =\n",
              "          await google.colab.kernel.invokeFunction('convertToInteractive',\n",
              "                                                    [key], {});\n",
              "        if (!dataTable) return;\n",
              "\n",
              "        const docLinkHtml = 'Like what you see? Visit the ' +\n",
              "          '<a target=\"_blank\" href=https://colab.research.google.com/notebooks/data_table.ipynb>data table notebook</a>'\n",
              "          + ' to learn more about interactive tables.';\n",
              "        element.innerHTML = '';\n",
              "        dataTable['output_type'] = 'display_data';\n",
              "        await google.colab.output.renderOutput(dataTable, element);\n",
              "        const docLink = document.createElement('div');\n",
              "        docLink.innerHTML = docLinkHtml;\n",
              "        element.appendChild(docLink);\n",
              "      }\n",
              "    </script>\n",
              "  </div>\n",
              "\n",
              "\n",
              "<div id=\"df-0cf6c21b-7562-4720-93bb-7373c52549c8\">\n",
              "  <button class=\"colab-df-quickchart\" onclick=\"quickchart('df-0cf6c21b-7562-4720-93bb-7373c52549c8')\"\n",
              "            title=\"Suggest charts\"\n",
              "            style=\"display:none;\">\n",
              "\n",
              "<svg xmlns=\"http://www.w3.org/2000/svg\" height=\"24px\"viewBox=\"0 0 24 24\"\n",
              "     width=\"24px\">\n",
              "    <g>\n",
              "        <path d=\"M19 3H5c-1.1 0-2 .9-2 2v14c0 1.1.9 2 2 2h14c1.1 0 2-.9 2-2V5c0-1.1-.9-2-2-2zM9 17H7v-7h2v7zm4 0h-2V7h2v10zm4 0h-2v-4h2v4z\"/>\n",
              "    </g>\n",
              "</svg>\n",
              "  </button>\n",
              "\n",
              "<style>\n",
              "  .colab-df-quickchart {\n",
              "      --bg-color: #E8F0FE;\n",
              "      --fill-color: #1967D2;\n",
              "      --hover-bg-color: #E2EBFA;\n",
              "      --hover-fill-color: #174EA6;\n",
              "      --disabled-fill-color: #AAA;\n",
              "      --disabled-bg-color: #DDD;\n",
              "  }\n",
              "\n",
              "  [theme=dark] .colab-df-quickchart {\n",
              "      --bg-color: #3B4455;\n",
              "      --fill-color: #D2E3FC;\n",
              "      --hover-bg-color: #434B5C;\n",
              "      --hover-fill-color: #FFFFFF;\n",
              "      --disabled-bg-color: #3B4455;\n",
              "      --disabled-fill-color: #666;\n",
              "  }\n",
              "\n",
              "  .colab-df-quickchart {\n",
              "    background-color: var(--bg-color);\n",
              "    border: none;\n",
              "    border-radius: 50%;\n",
              "    cursor: pointer;\n",
              "    display: none;\n",
              "    fill: var(--fill-color);\n",
              "    height: 32px;\n",
              "    padding: 0;\n",
              "    width: 32px;\n",
              "  }\n",
              "\n",
              "  .colab-df-quickchart:hover {\n",
              "    background-color: var(--hover-bg-color);\n",
              "    box-shadow: 0 1px 2px rgba(60, 64, 67, 0.3), 0 1px 3px 1px rgba(60, 64, 67, 0.15);\n",
              "    fill: var(--button-hover-fill-color);\n",
              "  }\n",
              "\n",
              "  .colab-df-quickchart-complete:disabled,\n",
              "  .colab-df-quickchart-complete:disabled:hover {\n",
              "    background-color: var(--disabled-bg-color);\n",
              "    fill: var(--disabled-fill-color);\n",
              "    box-shadow: none;\n",
              "  }\n",
              "\n",
              "  .colab-df-spinner {\n",
              "    border: 2px solid var(--fill-color);\n",
              "    border-color: transparent;\n",
              "    border-bottom-color: var(--fill-color);\n",
              "    animation:\n",
              "      spin 1s steps(1) infinite;\n",
              "  }\n",
              "\n",
              "  @keyframes spin {\n",
              "    0% {\n",
              "      border-color: transparent;\n",
              "      border-bottom-color: var(--fill-color);\n",
              "      border-left-color: var(--fill-color);\n",
              "    }\n",
              "    20% {\n",
              "      border-color: transparent;\n",
              "      border-left-color: var(--fill-color);\n",
              "      border-top-color: var(--fill-color);\n",
              "    }\n",
              "    30% {\n",
              "      border-color: transparent;\n",
              "      border-left-color: var(--fill-color);\n",
              "      border-top-color: var(--fill-color);\n",
              "      border-right-color: var(--fill-color);\n",
              "    }\n",
              "    40% {\n",
              "      border-color: transparent;\n",
              "      border-right-color: var(--fill-color);\n",
              "      border-top-color: var(--fill-color);\n",
              "    }\n",
              "    60% {\n",
              "      border-color: transparent;\n",
              "      border-right-color: var(--fill-color);\n",
              "    }\n",
              "    80% {\n",
              "      border-color: transparent;\n",
              "      border-right-color: var(--fill-color);\n",
              "      border-bottom-color: var(--fill-color);\n",
              "    }\n",
              "    90% {\n",
              "      border-color: transparent;\n",
              "      border-bottom-color: var(--fill-color);\n",
              "    }\n",
              "  }\n",
              "</style>\n",
              "\n",
              "  <script>\n",
              "    async function quickchart(key) {\n",
              "      const quickchartButtonEl =\n",
              "        document.querySelector('#' + key + ' button');\n",
              "      quickchartButtonEl.disabled = true;  // To prevent multiple clicks.\n",
              "      quickchartButtonEl.classList.add('colab-df-spinner');\n",
              "      try {\n",
              "        const charts = await google.colab.kernel.invokeFunction(\n",
              "            'suggestCharts', [key], {});\n",
              "      } catch (error) {\n",
              "        console.error('Error during call to suggestCharts:', error);\n",
              "      }\n",
              "      quickchartButtonEl.classList.remove('colab-df-spinner');\n",
              "      quickchartButtonEl.classList.add('colab-df-quickchart-complete');\n",
              "    }\n",
              "    (() => {\n",
              "      let quickchartButtonEl =\n",
              "        document.querySelector('#df-0cf6c21b-7562-4720-93bb-7373c52549c8 button');\n",
              "      quickchartButtonEl.style.display =\n",
              "        google.colab.kernel.accessAllowed ? 'block' : 'none';\n",
              "    })();\n",
              "  </script>\n",
              "</div>\n",
              "\n",
              "    </div>\n",
              "  </div>\n"
            ]
          },
          "metadata": {},
          "execution_count": 5
        }
      ]
    },
    {
      "cell_type": "markdown",
      "source": [
        "### Dataset Rows & Columns count"
      ],
      "metadata": {
        "id": "7hBIi_osiCS2"
      }
    },
    {
      "cell_type": "code",
      "source": [
        "# Dataset Rows & Columns count\n",
        "rest_df.shape, reviews_df.shape"
      ],
      "metadata": {
        "id": "Kllu7SJgmLij",
        "colab": {
          "base_uri": "https://localhost:8080/"
        },
        "outputId": "e184aa6c-b09e-45ab-f934-cf70d0f6dde6"
      },
      "execution_count": 6,
      "outputs": [
        {
          "output_type": "execute_result",
          "data": {
            "text/plain": [
              "((105, 6), (10000, 7))"
            ]
          },
          "metadata": {},
          "execution_count": 6
        }
      ]
    },
    {
      "cell_type": "markdown",
      "source": [
        "### Dataset Information"
      ],
      "metadata": {
        "id": "JlHwYmJAmNHm"
      }
    },
    {
      "cell_type": "code",
      "source": [
        "# Restaurant Dataset Info\n",
        "rest_df.info()"
      ],
      "metadata": {
        "id": "e9hRXRi6meOf",
        "colab": {
          "base_uri": "https://localhost:8080/"
        },
        "outputId": "17d76850-5862-42d5-a347-ffc19c6b1421"
      },
      "execution_count": 7,
      "outputs": [
        {
          "output_type": "stream",
          "name": "stdout",
          "text": [
            "<class 'pandas.core.frame.DataFrame'>\n",
            "RangeIndex: 105 entries, 0 to 104\n",
            "Data columns (total 6 columns):\n",
            " #   Column       Non-Null Count  Dtype \n",
            "---  ------       --------------  ----- \n",
            " 0   Name         105 non-null    object\n",
            " 1   Links        105 non-null    object\n",
            " 2   Cost         105 non-null    object\n",
            " 3   Collections  51 non-null     object\n",
            " 4   Cuisines     105 non-null    object\n",
            " 5   Timings      104 non-null    object\n",
            "dtypes: object(6)\n",
            "memory usage: 5.0+ KB\n"
          ]
        }
      ]
    },
    {
      "cell_type": "code",
      "source": [
        "# Reviews Dataset Info\n",
        "reviews_df.info()"
      ],
      "metadata": {
        "colab": {
          "base_uri": "https://localhost:8080/"
        },
        "id": "mE0JYT8RcUB5",
        "outputId": "51c360d1-7e60-461c-9b38-4f6d7a6f6b9b"
      },
      "execution_count": 9,
      "outputs": [
        {
          "output_type": "stream",
          "name": "stdout",
          "text": [
            "<class 'pandas.core.frame.DataFrame'>\n",
            "RangeIndex: 10000 entries, 0 to 9999\n",
            "Data columns (total 7 columns):\n",
            " #   Column      Non-Null Count  Dtype \n",
            "---  ------      --------------  ----- \n",
            " 0   Restaurant  10000 non-null  object\n",
            " 1   Reviewer    9962 non-null   object\n",
            " 2   Review      9955 non-null   object\n",
            " 3   Rating      9962 non-null   object\n",
            " 4   Metadata    9962 non-null   object\n",
            " 5   Time        9962 non-null   object\n",
            " 6   Pictures    10000 non-null  int64 \n",
            "dtypes: int64(1), object(6)\n",
            "memory usage: 547.0+ KB\n"
          ]
        }
      ]
    },
    {
      "cell_type": "markdown",
      "source": [
        "#### Duplicate Values"
      ],
      "metadata": {
        "id": "35m5QtbWiB9F"
      }
    },
    {
      "cell_type": "code",
      "source": [
        "# Restaurant Dataset Duplicate Value Count\n",
        "rest_df.duplicated().sum()"
      ],
      "metadata": {
        "id": "1sLdpKYkmox0",
        "colab": {
          "base_uri": "https://localhost:8080/"
        },
        "outputId": "611a084b-f6c3-4826-c3ff-7da0e9d0922c"
      },
      "execution_count": 10,
      "outputs": [
        {
          "output_type": "execute_result",
          "data": {
            "text/plain": [
              "0"
            ]
          },
          "metadata": {},
          "execution_count": 10
        }
      ]
    },
    {
      "cell_type": "code",
      "source": [
        "# Reviews Dataset Duplicate Value Count\n",
        "reviews_df.duplicated().sum()"
      ],
      "metadata": {
        "colab": {
          "base_uri": "https://localhost:8080/"
        },
        "id": "HtwGOpV7d2IV",
        "outputId": "ccad2c14-4ced-4eaf-c93f-55f89ba859f1"
      },
      "execution_count": 11,
      "outputs": [
        {
          "output_type": "execute_result",
          "data": {
            "text/plain": [
              "36"
            ]
          },
          "metadata": {},
          "execution_count": 11
        }
      ]
    },
    {
      "cell_type": "markdown",
      "source": [
        "#### Missing Values/Null Values"
      ],
      "metadata": {
        "id": "PoPl-ycgm1ru"
      }
    },
    {
      "cell_type": "code",
      "source": [
        "# Rest_df Missing Values/Null Values Count\n",
        "rest_df.isna().sum()"
      ],
      "metadata": {
        "id": "GgHWkxvamxVg",
        "colab": {
          "base_uri": "https://localhost:8080/"
        },
        "outputId": "f9cac618-a0cc-46ae-ec06-3244ba510a68"
      },
      "execution_count": 12,
      "outputs": [
        {
          "output_type": "execute_result",
          "data": {
            "text/plain": [
              "Name            0\n",
              "Links           0\n",
              "Cost            0\n",
              "Collections    54\n",
              "Cuisines        0\n",
              "Timings         1\n",
              "dtype: int64"
            ]
          },
          "metadata": {},
          "execution_count": 12
        }
      ]
    },
    {
      "cell_type": "code",
      "source": [
        "# Reviews_df Missing Values/Null Values Count\n",
        "reviews_df.isna().sum()"
      ],
      "metadata": {
        "colab": {
          "base_uri": "https://localhost:8080/"
        },
        "id": "ks2Nrz6Te_eI",
        "outputId": "9848e9de-6d9d-47e2-f7c1-3e01fb145764"
      },
      "execution_count": 13,
      "outputs": [
        {
          "output_type": "execute_result",
          "data": {
            "text/plain": [
              "Restaurant     0\n",
              "Reviewer      38\n",
              "Review        45\n",
              "Rating        38\n",
              "Metadata      38\n",
              "Time          38\n",
              "Pictures       0\n",
              "dtype: int64"
            ]
          },
          "metadata": {},
          "execution_count": 13
        }
      ]
    },
    {
      "cell_type": "code",
      "source": [
        "# Restaurant Visualizing the missing values\n",
        "import missingno as msno\n",
        "msno.matrix(rest_df)"
      ],
      "metadata": {
        "id": "3q5wnI3om9sJ",
        "colab": {
          "base_uri": "https://localhost:8080/",
          "height": 669
        },
        "outputId": "971880c4-55b7-47a5-94de-f716048a1d7d"
      },
      "execution_count": 14,
      "outputs": [
        {
          "output_type": "execute_result",
          "data": {
            "text/plain": [
              "<Axes: >"
            ]
          },
          "metadata": {},
          "execution_count": 14
        },
        {
          "output_type": "display_data",
          "data": {
            "text/plain": [
              "<Figure size 2500x1000 with 2 Axes>"
            ],
            "image/png": "[encoded data removed]"
          },
          "metadata": {}
        }
      ]
    },
    {
      "cell_type": "code",
      "source": [
        "# Reviews Visualizing the missing values\n",
        "import missingno as msno\n",
        "msno.bar(reviews_df)"
      ],
      "metadata": {
        "colab": {
          "base_uri": "https://localhost:8080/",
          "height": 695
        },
        "id": "oe3PRsVhjjuf",
        "outputId": "ec1b7fd1-e378-4646-a855-eebceb4b5eea"
      },
      "execution_count": 21,
      "outputs": [
        {
          "output_type": "execute_result",
          "data": {
            "text/plain": [
              "<Axes: >"
            ]
          },
          "metadata": {},
          "execution_count": 21
        },
        {
          "output_type": "display_data",
          "data": {
            "text/plain": [
              "<Figure size 2500x1000 with 3 Axes>"
            ],
            "image/png": "[encoded data removed]"
          },
          "metadata": {}
        }
      ]
    },
    {
      "cell_type": "code",
      "source": [
        "# Checking the heatmap\n",
        "import missingno as msno\n",
        "msno.heatmap(reviews_df)"
      ],
      "metadata": {
        "colab": {
          "base_uri": "https://localhost:8080/",
          "height": 989
        },
        "id": "IKk0CPr7i16N",
        "outputId": "f7199ccc-3c6d-4761-9e80-9f3c7ba90b66"
      },
      "execution_count": 22,
      "outputs": [
        {
          "output_type": "execute_result",
          "data": {
            "text/plain": [
              "<Axes: >"
            ]
          },
          "metadata": {},
          "execution_count": 22
        },
        {
          "output_type": "display_data",
          "data": {
            "text/plain": [
              "<Figure size 2000x1200 with 2 Axes>"
            ],
            "image/png": "[encoded data removed]"
          },
          "metadata": {}
        }
      ]
    },
    {
      "cell_type": "markdown",
      "source": [
        "### What did you know about your dataset?"
      ],
      "metadata": {
        "id": "H0kj-8xxnORC"
      }
    },
    {
      "cell_type": "markdown",
      "source": [
        "* I have the two datasets 1. restaurant data and 2. reviews data\n",
        "\n",
        "* The restaurant dataset has 105 restaurants, and with each row corresponding to each restaurant, there are 6 columns in the restaurant data set, and two columns have null values.\n",
        "\n",
        "* The reviews dataset has 10000 rows and 7 columns, The columns Reviewer, Review, Rating, Metadata, and Time have some null values, There are 36 duplicate values in data, and the reviewer column has 38 values that are null and 38 values in other columns. where the reviewer is missing where review, rating etc. also missing."
      ],
      "metadata": {
        "id": "gfoNAAC-nUe_"
      }
    },
    {
      "cell_type": "markdown",
      "source": [
        "## ***2. Understanding Your Variables***"
      ],
      "metadata": {
        "id": "nA9Y7ga8ng1Z"
      }
    },
    {
      "cell_type": "code",
      "source": [
        "# Restaurant Dataset Columns\n",
        "Columns_restaurant_df = rest_df.columns\n",
        "\n",
        "# Print the column names\n",
        "print(\"Column Names:\")\n",
        "for column in Columns_restaurant_df:\n",
        "    print(column)"
      ],
      "metadata": {
        "id": "j7xfkqrt5Ag5",
        "colab": {
          "base_uri": "https://localhost:8080/"
        },
        "outputId": "fbb5062a-203c-41aa-effd-1aea770e8190"
      },
      "execution_count": 29,
      "outputs": [
        {
          "output_type": "stream",
          "name": "stdout",
          "text": [
            "Column Names:\n",
            "Name\n",
            "Links\n",
            "Cost\n",
            "Collections\n",
            "Cuisines\n",
            "Timings\n"
          ]
        }
      ]
    },
    {
      "cell_type": "code",
      "source": [
        "# Reviews Dataset Columns\n",
        "Columns_reviews_df = reviews_df.columns\n",
        "\n",
        "# Print the column names\n",
        "print(\"Column Names:\")\n",
        "for column in Columns_reviews_df:\n",
        "    print(column)"
      ],
      "metadata": {
        "colab": {
          "base_uri": "https://localhost:8080/"
        },
        "id": "YqwazA4Oq3EI",
        "outputId": "b4f65ad9-4cf5-45c1-b66c-5ad1f8347a4f"
      },
      "execution_count": 30,
      "outputs": [
        {
          "output_type": "stream",
          "name": "stdout",
          "text": [
            "Column Names:\n",
            "Restaurant\n",
            "Reviewer\n",
            "Review\n",
            "Rating\n",
            "Metadata\n",
            "Time\n",
            "Pictures\n"
          ]
        }
      ]
    },
    {
      "cell_type": "code",
      "source": [
        "# Restaurant Dataset Describe\n",
        "rest_df.describe(include = 'all')"
      ],
      "metadata": {
        "id": "DnOaZdaE5Q5t",
        "colab": {
          "base_uri": "https://localhost:8080/",
          "height": 175
        },
        "outputId": "a27d2ce1-8c2c-42ca-acde-1d888b197caf"
      },
      "execution_count": 27,
      "outputs": [
        {
          "output_type": "execute_result",
          "data": {
            "text/plain": [
              "                   Name                                              Links  \\\n",
              "count               105                                                105   \n",
              "unique              105                                                105   \n",
              "top     Beyond Flavours  https://www.zomato.com/hyderabad/beyond-flavou...   \n",
              "freq                  1                                                  1   \n",
              "\n",
              "       Cost                                  Collections  \\\n",
              "count   105                                           51   \n",
              "unique   29                                           42   \n",
              "top     500  Food Hygiene Rated Restaurants in Hyderabad   \n",
              "freq     13                                            4   \n",
              "\n",
              "                     Cuisines         Timings  \n",
              "count                     105             104  \n",
              "unique                     92              77  \n",
              "top     North Indian, Chinese  11 AM to 11 PM  \n",
              "freq                        4               6  "
            ],
            "text/html": [
              "\n",
              "  <div id=\"df-4eccce67-162c-4566-8398-7bda4cf5e91a\" class=\"colab-df-container\">\n",
              "    <div>\n",
              "<style scoped>\n",
              "    .dataframe tbody tr th:only-of-type {\n",
              "        vertical-align: middle;\n",
              "    }\n",
              "\n",
              "    .dataframe tbody tr th {\n",
              "        vertical-align: top;\n",
              "    }\n",
              "\n",
              "    .dataframe thead th {\n",
              "        text-align: right;\n",
              "    }\n",
              "</style>\n",
              "<table border=\"1\" class=\"dataframe\">\n",
              "  <thead>\n",
              "    <tr style=\"text-align: right;\">\n",
              "      <th></th>\n",
              "      <th>Name</th>\n",
              "      <th>Links</th>\n",
              "      <th>Cost</th>\n",
              "      <th>Collections</th>\n",
              "      <th>Cuisines</th>\n",
              "      <th>Timings</th>\n",
              "    </tr>\n",
              "  </thead>\n",
              "  <tbody>\n",
              "    <tr>\n",
              "      <th>count</th>\n",
              "      <td>105</td>\n",
              "      <td>105</td>\n",
              "      <td>105</td>\n",
              "      <td>51</td>\n",
              "      <td>105</td>\n",
              "      <td>104</td>\n",
              "    </tr>\n",
              "    <tr>\n",
              "      <th>unique</th>\n",
              "      <td>105</td>\n",
              "      <td>105</td>\n",
              "      <td>29</td>\n",
              "      <td>42</td>\n",
              "      <td>92</td>\n",
              "      <td>77</td>\n",
              "    </tr>\n",
              "    <tr>\n",
              "      <th>top</th>\n",
              "      <td>Beyond Flavours</td>\n",
              "      <td>https://www.zomato.com/hyderabad/beyond-flavou...</td>\n",
              "      <td>500</td>\n",
              "      <td>Food Hygiene Rated Restaurants in Hyderabad</td>\n",
              "      <td>North Indian, Chinese</td>\n",
              "      <td>11 AM to 11 PM</td>\n",
              "    </tr>\n",
              "    <tr>\n",
              "      <th>freq</th>\n",
              "      <td>1</td>\n",
              "      <td>1</td>\n",
              "      <td>13</td>\n",
              "      <td>4</td>\n",
              "      <td>4</td>\n",
              "      <td>6</td>\n",
              "    </tr>\n",
              "  </tbody>\n",
              "</table>\n",
              "</div>\n",
              "    <div class=\"colab-df-buttons\">\n",
              "\n",
              "  <div class=\"colab-df-container\">\n",
              "    <button class=\"colab-df-convert\" onclick=\"convertToInteractive('df-4eccce67-162c-4566-8398-7bda4cf5e91a')\"\n",
              "            title=\"Convert this dataframe to an interactive table.\"\n",
              "            style=\"display:none;\">\n",
              "\n",
              "  <svg xmlns=\"http://www.w3.org/2000/svg\" height=\"24px\" viewBox=\"0 -960 960 960\">\n",
              "    <path d=\"M120-120v-720h720v720H120Zm60-500h600v-160H180v160Zm220 220h160v-160H400v160Zm0 220h160v-160H400v160ZM180-400h160v-160H180v160Zm440 0h160v-160H620v160ZM180-180h160v-160H180v160Zm440 0h160v-160H620v160Z\"/>\n",
              "  </svg>\n",
              "    </button>\n",
              "\n",
              "  <style>\n",
              "    .colab-df-container {\n",
              "      display:flex;\n",
              "      gap: 12px;\n",
              "    }\n",
              "\n",
              "    .colab-df-convert {\n",
              "      background-color: #E8F0FE;\n",
              "      border: none;\n",
              "      border-radius: 50%;\n",
              "      cursor: pointer;\n",
              "      display: none;\n",
              "      fill: #1967D2;\n",
              "      height: 32px;\n",
              "      padding: 0 0 0 0;\n",
              "      width: 32px;\n",
              "    }\n",
              "\n",
              "    .colab-df-convert:hover {\n",
              "      background-color: #E2EBFA;\n",
              "      box-shadow: 0px 1px 2px rgba(60, 64, 67, 0.3), 0px 1px 3px 1px rgba(60, 64, 67, 0.15);\n",
              "      fill: #174EA6;\n",
              "    }\n",
              "\n",
              "    .colab-df-buttons div {\n",
              "      margin-bottom: 4px;\n",
              "    }\n",
              "\n",
              "    [theme=dark] .colab-df-convert {\n",
              "      background-color: #3B4455;\n",
              "      fill: #D2E3FC;\n",
              "    }\n",
              "\n",
              "    [theme=dark] .colab-df-convert:hover {\n",
              "      background-color: #434B5C;\n",
              "      box-shadow: 0px 1px 3px 1px rgba(0, 0, 0, 0.15);\n",
              "      filter: drop-shadow(0px 1px 2px rgba(0, 0, 0, 0.3));\n",
              "      fill: #FFFFFF;\n",
              "    }\n",
              "  </style>\n",
              "\n",
              "    <script>\n",
              "      const buttonEl =\n",
              "        document.querySelector('#df-4eccce67-162c-4566-8398-7bda4cf5e91a button.colab-df-convert');\n",
              "      buttonEl.style.display =\n",
              "        google.colab.kernel.accessAllowed ? 'block' : 'none';\n",
              "\n",
              "      async function convertToInteractive(key) {\n",
              "        const element = document.querySelector('#df-4eccce67-162c-4566-8398-7bda4cf5e91a');\n",
              "        const dataTable =\n",
              "          await google.colab.kernel.invokeFunction('convertToInteractive',\n",
              "                                                    [key], {});\n",
              "        if (!dataTable) return;\n",
              "\n",
              "        const docLinkHtml = 'Like what you see? Visit the ' +\n",
              "          '<a target=\"_blank\" href=https://colab.research.google.com/notebooks/data_table.ipynb>data table notebook</a>'\n",
              "          + ' to learn more about interactive tables.';\n",
              "        element.innerHTML = '';\n",
              "        dataTable['output_type'] = 'display_data';\n",
              "        await google.colab.output.renderOutput(dataTable, element);\n",
              "        const docLink = document.createElement('div');\n",
              "        docLink.innerHTML = docLinkHtml;\n",
              "        element.appendChild(docLink);\n",
              "      }\n",
              "    </script>\n",
              "  </div>\n",
              "\n",
              "\n",
              "<div id=\"df-ec3a5ced-db90-4fae-835e-e18d094604d0\">\n",
              "  <button class=\"colab-df-quickchart\" onclick=\"quickchart('df-ec3a5ced-db90-4fae-835e-e18d094604d0')\"\n",
              "            title=\"Suggest charts\"\n",
              "            style=\"display:none;\">\n",
              "\n",
              "<svg xmlns=\"http://www.w3.org/2000/svg\" height=\"24px\"viewBox=\"0 0 24 24\"\n",
              "     width=\"24px\">\n",
              "    <g>\n",
              "        <path d=\"M19 3H5c-1.1 0-2 .9-2 2v14c0 1.1.9 2 2 2h14c1.1 0 2-.9 2-2V5c0-1.1-.9-2-2-2zM9 17H7v-7h2v7zm4 0h-2V7h2v10zm4 0h-2v-4h2v4z\"/>\n",
              "    </g>\n",
              "</svg>\n",
              "  </button>\n",
              "\n",
              "<style>\n",
              "  .colab-df-quickchart {\n",
              "      --bg-color: #E8F0FE;\n",
              "      --fill-color: #1967D2;\n",
              "      --hover-bg-color: #E2EBFA;\n",
              "      --hover-fill-color: #174EA6;\n",
              "      --disabled-fill-color: #AAA;\n",
              "      --disabled-bg-color: #DDD;\n",
              "  }\n",
              "\n",
              "  [theme=dark] .colab-df-quickchart {\n",
              "      --bg-color: #3B4455;\n",
              "      --fill-color: #D2E3FC;\n",
              "      --hover-bg-color: #434B5C;\n",
              "      --hover-fill-color: #FFFFFF;\n",
              "      --disabled-bg-color: #3B4455;\n",
              "      --disabled-fill-color: #666;\n",
              "  }\n",
              "\n",
              "  .colab-df-quickchart {\n",
              "    background-color: var(--bg-color);\n",
              "    border: none;\n",
              "    border-radius: 50%;\n",
              "    cursor: pointer;\n",
              "    display: none;\n",
              "    fill: var(--fill-color);\n",
              "    height: 32px;\n",
              "    padding: 0;\n",
              "    width: 32px;\n",
              "  }\n",
              "\n",
              "  .colab-df-quickchart:hover {\n",
              "    background-color: var(--hover-bg-color);\n",
              "    box-shadow: 0 1px 2px rgba(60, 64, 67, 0.3), 0 1px 3px 1px rgba(60, 64, 67, 0.15);\n",
              "    fill: var(--button-hover-fill-color);\n",
              "  }\n",
              "\n",
              "  .colab-df-quickchart-complete:disabled,\n",
              "  .colab-df-quickchart-complete:disabled:hover {\n",
              "    background-color: var(--disabled-bg-color);\n",
              "    fill: var(--disabled-fill-color);\n",
              "    box-shadow: none;\n",
              "  }\n",
              "\n",
              "  .colab-df-spinner {\n",
              "    border: 2px solid var(--fill-color);\n",
              "    border-color: transparent;\n",
              "    border-bottom-color: var(--fill-color);\n",
              "    animation:\n",
              "      spin 1s steps(1) infinite;\n",
              "  }\n",
              "\n",
              "  @keyframes spin {\n",
              "    0% {\n",
              "      border-color: transparent;\n",
              "      border-bottom-color: var(--fill-color);\n",
              "      border-left-color: var(--fill-color);\n",
              "    }\n",
              "    20% {\n",
              "      border-color: transparent;\n",
              "      border-left-color: var(--fill-color);\n",
              "      border-top-color: var(--fill-color);\n",
              "    }\n",
              "    30% {\n",
              "      border-color: transparent;\n",
              "      border-left-color: var(--fill-color);\n",
              "      border-top-color: var(--fill-color);\n",
              "      border-right-color: var(--fill-color);\n",
              "    }\n",
              "    40% {\n",
              "      border-color: transparent;\n",
              "      border-right-color: var(--fill-color);\n",
              "      border-top-color: var(--fill-color);\n",
              "    }\n",
              "    60% {\n",
              "      border-color: transparent;\n",
              "      border-right-color: var(--fill-color);\n",
              "    }\n",
              "    80% {\n",
              "      border-color: transparent;\n",
              "      border-right-color: var(--fill-color);\n",
              "      border-bottom-color: var(--fill-color);\n",
              "    }\n",
              "    90% {\n",
              "      border-color: transparent;\n",
              "      border-bottom-color: var(--fill-color);\n",
              "    }\n",
              "  }\n",
              "</style>\n",
              "\n",
              "  <script>\n",
              "    async function quickchart(key) {\n",
              "      const quickchartButtonEl =\n",
              "        document.querySelector('#' + key + ' button');\n",
              "      quickchartButtonEl.disabled = true;  // To prevent multiple clicks.\n",
              "      quickchartButtonEl.classList.add('colab-df-spinner');\n",
              "      try {\n",
              "        const charts = await google.colab.kernel.invokeFunction(\n",
              "            'suggestCharts', [key], {});\n",
              "      } catch (error) {\n",
              "        console.error('Error during call to suggestCharts:', error);\n",
              "      }\n",
              "      quickchartButtonEl.classList.remove('colab-df-spinner');\n",
              "      quickchartButtonEl.classList.add('colab-df-quickchart-complete');\n",
              "    }\n",
              "    (() => {\n",
              "      let quickchartButtonEl =\n",
              "        document.querySelector('#df-ec3a5ced-db90-4fae-835e-e18d094604d0 button');\n",
              "      quickchartButtonEl.style.display =\n",
              "        google.colab.kernel.accessAllowed ? 'block' : 'none';\n",
              "    })();\n",
              "  </script>\n",
              "</div>\n",
              "\n",
              "    </div>\n",
              "  </div>\n"
            ]
          },
          "metadata": {},
          "execution_count": 27
        }
      ]
    },
    {
      "cell_type": "code",
      "source": [
        "# Reviews Dataset Describe\n",
        "reviews_df.describe(include = 'all')"
      ],
      "metadata": {
        "colab": {
          "base_uri": "https://localhost:8080/",
          "height": 394
        },
        "id": "3udzOCA6saNy",
        "outputId": "b6114c8c-130a-4772-94c2-06ebb713f5ab"
      },
      "execution_count": 28,
      "outputs": [
        {
          "output_type": "execute_result",
          "data": {
            "text/plain": [
              "             Restaurant     Reviewer Review Rating  Metadata             Time  \\\n",
              "count             10000         9962   9955   9962      9962             9962   \n",
              "unique              100         7446   9364     10      2477             9782   \n",
              "top     Beyond Flavours  Parijat Ray   good      5  1 Review  7/29/2018 20:34   \n",
              "freq                100           13    237   3832       919                3   \n",
              "mean                NaN          NaN    NaN    NaN       NaN              NaN   \n",
              "std                 NaN          NaN    NaN    NaN       NaN              NaN   \n",
              "min                 NaN          NaN    NaN    NaN       NaN              NaN   \n",
              "25%                 NaN          NaN    NaN    NaN       NaN              NaN   \n",
              "50%                 NaN          NaN    NaN    NaN       NaN              NaN   \n",
              "75%                 NaN          NaN    NaN    NaN       NaN              NaN   \n",
              "max                 NaN          NaN    NaN    NaN       NaN              NaN   \n",
              "\n",
              "            Pictures  \n",
              "count   10000.000000  \n",
              "unique           NaN  \n",
              "top              NaN  \n",
              "freq             NaN  \n",
              "mean        0.748600  \n",
              "std         2.570381  \n",
              "min         0.000000  \n",
              "25%         0.000000  \n",
              "50%         0.000000  \n",
              "75%         0.000000  \n",
              "max        64.000000  "
            ],
            "text/html": [
              "\n",
              "  <div id=\"df-91db5c77-82e8-4d05-bd44-3fcdc694da93\" class=\"colab-df-container\">\n",
              "    <div>\n",
              "<style scoped>\n",
              "    .dataframe tbody tr th:only-of-type {\n",
              "        vertical-align: middle;\n",
              "    }\n",
              "\n",
              "    .dataframe tbody tr th {\n",
              "        vertical-align: top;\n",
              "    }\n",
              "\n",
              "    .dataframe thead th {\n",
              "        text-align: right;\n",
              "    }\n",
              "</style>\n",
              "<table border=\"1\" class=\"dataframe\">\n",
              "  <thead>\n",
              "    <tr style=\"text-align: right;\">\n",
              "      <th></th>\n",
              "      <th>Restaurant</th>\n",
              "      <th>Reviewer</th>\n",
              "      <th>Review</th>\n",
              "      <th>Rating</th>\n",
              "      <th>Metadata</th>\n",
              "      <th>Time</th>\n",
              "      <th>Pictures</th>\n",
              "    </tr>\n",
              "  </thead>\n",
              "  <tbody>\n",
              "    <tr>\n",
              "      <th>count</th>\n",
              "      <td>10000</td>\n",
              "      <td>9962</td>\n",
              "      <td>9955</td>\n",
              "      <td>9962</td>\n",
              "      <td>9962</td>\n",
              "      <td>9962</td>\n",
              "      <td>10000.000000</td>\n",
              "    </tr>\n",
              "    <tr>\n",
              "      <th>unique</th>\n",
              "      <td>100</td>\n",
              "      <td>7446</td>\n",
              "      <td>9364</td>\n",
              "      <td>10</td>\n",
              "      <td>2477</td>\n",
              "      <td>9782</td>\n",
              "      <td>NaN</td>\n",
              "    </tr>\n",
              "    <tr>\n",
              "      <th>top</th>\n",
              "      <td>Beyond Flavours</td>\n",
              "      <td>Parijat Ray</td>\n",
              "      <td>good</td>\n",
              "      <td>5</td>\n",
              "      <td>1 Review</td>\n",
              "      <td>7/29/2018 20:34</td>\n",
              "      <td>NaN</td>\n",
              "    </tr>\n",
              "    <tr>\n",
              "      <th>freq</th>\n",
              "      <td>100</td>\n",
              "      <td>13</td>\n",
              "      <td>237</td>\n",
              "      <td>3832</td>\n",
              "      <td>919</td>\n",
              "      <td>3</td>\n",
              "      <td>NaN</td>\n",
              "    </tr>\n",
              "    <tr>\n",
              "      <th>mean</th>\n",
              "      <td>NaN</td>\n",
              "      <td>NaN</td>\n",
              "      <td>NaN</td>\n",
              "      <td>NaN</td>\n",
              "      <td>NaN</td>\n",
              "      <td>NaN</td>\n",
              "      <td>0.748600</td>\n",
              "    </tr>\n",
              "    <tr>\n",
              "      <th>std</th>\n",
              "      <td>NaN</td>\n",
              "      <td>NaN</td>\n",
              "      <td>NaN</td>\n",
              "      <td>NaN</td>\n",
              "      <td>NaN</td>\n",
              "      <td>NaN</td>\n",
              "      <td>2.570381</td>\n",
              "    </tr>\n",
              "    <tr>\n",
              "      <th>min</th>\n",
              "      <td>NaN</td>\n",
              "      <td>NaN</td>\n",
              "      <td>NaN</td>\n",
              "      <td>NaN</td>\n",
              "      <td>NaN</td>\n",
              "      <td>NaN</td>\n",
              "      <td>0.000000</td>\n",
              "    </tr>\n",
              "    <tr>\n",
              "      <th>25%</th>\n",
              "      <td>NaN</td>\n",
              "      <td>NaN</td>\n",
              "      <td>NaN</td>\n",
              "      <td>NaN</td>\n",
              "      <td>NaN</td>\n",
              "      <td>NaN</td>\n",
              "      <td>0.000000</td>\n",
              "    </tr>\n",
              "    <tr>\n",
              "      <th>50%</th>\n",
              "      <td>NaN</td>\n",
              "      <td>NaN</td>\n",
              "      <td>NaN</td>\n",
              "      <td>NaN</td>\n",
              "      <td>NaN</td>\n",
              "      <td>NaN</td>\n",
              "      <td>0.000000</td>\n",
              "    </tr>\n",
              "    <tr>\n",
              "      <th>75%</th>\n",
              "      <td>NaN</td>\n",
              "      <td>NaN</td>\n",
              "      <td>NaN</td>\n",
              "      <td>NaN</td>\n",
              "      <td>NaN</td>\n",
              "      <td>NaN</td>\n",
              "      <td>0.000000</td>\n",
              "    </tr>\n",
              "    <tr>\n",
              "      <th>max</th>\n",
              "      <td>NaN</td>\n",
              "      <td>NaN</td>\n",
              "      <td>NaN</td>\n",
              "      <td>NaN</td>\n",
              "      <td>NaN</td>\n",
              "      <td>NaN</td>\n",
              "      <td>64.000000</td>\n",
              "    </tr>\n",
              "  </tbody>\n",
              "</table>\n",
              "</div>\n",
              "    <div class=\"colab-df-buttons\">\n",
              "\n",
              "  <div class=\"colab-df-container\">\n",
              "    <button class=\"colab-df-convert\" onclick=\"convertToInteractive('df-91db5c77-82e8-4d05-bd44-3fcdc694da93')\"\n",
              "            title=\"Convert this dataframe to an interactive table.\"\n",
              "            style=\"display:none;\">\n",
              "\n",
              "  <svg xmlns=\"http://www.w3.org/2000/svg\" height=\"24px\" viewBox=\"0 -960 960 960\">\n",
              "    <path d=\"M120-120v-720h720v720H120Zm60-500h600v-160H180v160Zm220 220h160v-160H400v160Zm0 220h160v-160H400v160ZM180-400h160v-160H180v160Zm440 0h160v-160H620v160ZM180-180h160v-160H180v160Zm440 0h160v-160H620v160Z\"/>\n",
              "  </svg>\n",
              "    </button>\n",
              "\n",
              "  <style>\n",
              "    .colab-df-container {\n",
              "      display:flex;\n",
              "      gap: 12px;\n",
              "    }\n",
              "\n",
              "    .colab-df-convert {\n",
              "      background-color: #E8F0FE;\n",
              "      border: none;\n",
              "      border-radius: 50%;\n",
              "      cursor: pointer;\n",
              "      display: none;\n",
              "      fill: #1967D2;\n",
              "      height: 32px;\n",
              "      padding: 0 0 0 0;\n",
              "      width: 32px;\n",
              "    }\n",
              "\n",
              "    .colab-df-convert:hover {\n",
              "      background-color: #E2EBFA;\n",
              "      box-shadow: 0px 1px 2px rgba(60, 64, 67, 0.3), 0px 1px 3px 1px rgba(60, 64, 67, 0.15);\n",
              "      fill: #174EA6;\n",
              "    }\n",
              "\n",
              "    .colab-df-buttons div {\n",
              "      margin-bottom: 4px;\n",
              "    }\n",
              "\n",
              "    [theme=dark] .colab-df-convert {\n",
              "      background-color: #3B4455;\n",
              "      fill: #D2E3FC;\n",
              "    }\n",
              "\n",
              "    [theme=dark] .colab-df-convert:hover {\n",
              "      background-color: #434B5C;\n",
              "      box-shadow: 0px 1px 3px 1px rgba(0, 0, 0, 0.15);\n",
              "      filter: drop-shadow(0px 1px 2px rgba(0, 0, 0, 0.3));\n",
              "      fill: #FFFFFF;\n",
              "    }\n",
              "  </style>\n",
              "\n",
              "    <script>\n",
              "      const buttonEl =\n",
              "        document.querySelector('#df-91db5c77-82e8-4d05-bd44-3fcdc694da93 button.colab-df-convert');\n",
              "      buttonEl.style.display =\n",
              "        google.colab.kernel.accessAllowed ? 'block' : 'none';\n",
              "\n",
              "      async function convertToInteractive(key) {\n",
              "        const element = document.querySelector('#df-91db5c77-82e8-4d05-bd44-3fcdc694da93');\n",
              "        const dataTable =\n",
              "          await google.colab.kernel.invokeFunction('convertToInteractive',\n",
              "                                                    [key], {});\n",
              "        if (!dataTable) return;\n",
              "\n",
              "        const docLinkHtml = 'Like what you see? Visit the ' +\n",
              "          '<a target=\"_blank\" href=https://colab.research.google.com/notebooks/data_table.ipynb>data table notebook</a>'\n",
              "          + ' to learn more about interactive tables.';\n",
              "        element.innerHTML = '';\n",
              "        dataTable['output_type'] = 'display_data';\n",
              "        await google.colab.output.renderOutput(dataTable, element);\n",
              "        const docLink = document.createElement('div');\n",
              "        docLink.innerHTML = docLinkHtml;\n",
              "        element.appendChild(docLink);\n",
              "      }\n",
              "    </script>\n",
              "  </div>\n",
              "\n",
              "\n",
              "<div id=\"df-34e514b2-f49d-4c6c-8bb2-c6709fece724\">\n",
              "  <button class=\"colab-df-quickchart\" onclick=\"quickchart('df-34e514b2-f49d-4c6c-8bb2-c6709fece724')\"\n",
              "            title=\"Suggest charts\"\n",
              "            style=\"display:none;\">\n",
              "\n",
              "<svg xmlns=\"http://www.w3.org/2000/svg\" height=\"24px\"viewBox=\"0 0 24 24\"\n",
              "     width=\"24px\">\n",
              "    <g>\n",
              "        <path d=\"M19 3H5c-1.1 0-2 .9-2 2v14c0 1.1.9 2 2 2h14c1.1 0 2-.9 2-2V5c0-1.1-.9-2-2-2zM9 17H7v-7h2v7zm4 0h-2V7h2v10zm4 0h-2v-4h2v4z\"/>\n",
              "    </g>\n",
              "</svg>\n",
              "  </button>\n",
              "\n",
              "<style>\n",
              "  .colab-df-quickchart {\n",
              "      --bg-color: #E8F0FE;\n",
              "      --fill-color: #1967D2;\n",
              "      --hover-bg-color: #E2EBFA;\n",
              "      --hover-fill-color: #174EA6;\n",
              "      --disabled-fill-color: #AAA;\n",
              "      --disabled-bg-color: #DDD;\n",
              "  }\n",
              "\n",
              "  [theme=dark] .colab-df-quickchart {\n",
              "      --bg-color: #3B4455;\n",
              "      --fill-color: #D2E3FC;\n",
              "      --hover-bg-color: #434B5C;\n",
              "      --hover-fill-color: #FFFFFF;\n",
              "      --disabled-bg-color: #3B4455;\n",
              "      --disabled-fill-color: #666;\n",
              "  }\n",
              "\n",
              "  .colab-df-quickchart {\n",
              "    background-color: var(--bg-color);\n",
              "    border: none;\n",
              "    border-radius: 50%;\n",
              "    cursor: pointer;\n",
              "    display: none;\n",
              "    fill: var(--fill-color);\n",
              "    height: 32px;\n",
              "    padding: 0;\n",
              "    width: 32px;\n",
              "  }\n",
              "\n",
              "  .colab-df-quickchart:hover {\n",
              "    background-color: var(--hover-bg-color);\n",
              "    box-shadow: 0 1px 2px rgba(60, 64, 67, 0.3), 0 1px 3px 1px rgba(60, 64, 67, 0.15);\n",
              "    fill: var(--button-hover-fill-color);\n",
              "  }\n",
              "\n",
              "  .colab-df-quickchart-complete:disabled,\n",
              "  .colab-df-quickchart-complete:disabled:hover {\n",
              "    background-color: var(--disabled-bg-color);\n",
              "    fill: var(--disabled-fill-color);\n",
              "    box-shadow: none;\n",
              "  }\n",
              "\n",
              "  .colab-df-spinner {\n",
              "    border: 2px solid var(--fill-color);\n",
              "    border-color: transparent;\n",
              "    border-bottom-color: var(--fill-color);\n",
              "    animation:\n",
              "      spin 1s steps(1) infinite;\n",
              "  }\n",
              "\n",
              "  @keyframes spin {\n",
              "    0% {\n",
              "      border-color: transparent;\n",
              "      border-bottom-color: var(--fill-color);\n",
              "      border-left-color: var(--fill-color);\n",
              "    }\n",
              "    20% {\n",
              "      border-color: transparent;\n",
              "      border-left-color: var(--fill-color);\n",
              "      border-top-color: var(--fill-color);\n",
              "    }\n",
              "    30% {\n",
              "      border-color: transparent;\n",
              "      border-left-color: var(--fill-color);\n",
              "      border-top-color: var(--fill-color);\n",
              "      border-right-color: var(--fill-color);\n",
              "    }\n",
              "    40% {\n",
              "      border-color: transparent;\n",
              "      border-right-color: var(--fill-color);\n",
              "      border-top-color: var(--fill-color);\n",
              "    }\n",
              "    60% {\n",
              "      border-color: transparent;\n",
              "      border-right-color: var(--fill-color);\n",
              "    }\n",
              "    80% {\n",
              "      border-color: transparent;\n",
              "      border-right-color: var(--fill-color);\n",
              "      border-bottom-color: var(--fill-color);\n",
              "    }\n",
              "    90% {\n",
              "      border-color: transparent;\n",
              "      border-bottom-color: var(--fill-color);\n",
              "    }\n",
              "  }\n",
              "</style>\n",
              "\n",
              "  <script>\n",
              "    async function quickchart(key) {\n",
              "      const quickchartButtonEl =\n",
              "        document.querySelector('#' + key + ' button');\n",
              "      quickchartButtonEl.disabled = true;  // To prevent multiple clicks.\n",
              "      quickchartButtonEl.classList.add('colab-df-spinner');\n",
              "      try {\n",
              "        const charts = await google.colab.kernel.invokeFunction(\n",
              "            'suggestCharts', [key], {});\n",
              "      } catch (error) {\n",
              "        console.error('Error during call to suggestCharts:', error);\n",
              "      }\n",
              "      quickchartButtonEl.classList.remove('colab-df-spinner');\n",
              "      quickchartButtonEl.classList.add('colab-df-quickchart-complete');\n",
              "    }\n",
              "    (() => {\n",
              "      let quickchartButtonEl =\n",
              "        document.querySelector('#df-34e514b2-f49d-4c6c-8bb2-c6709fece724 button');\n",
              "      quickchartButtonEl.style.display =\n",
              "        google.colab.kernel.accessAllowed ? 'block' : 'none';\n",
              "    })();\n",
              "  </script>\n",
              "</div>\n",
              "\n",
              "    </div>\n",
              "  </div>\n"
            ]
          },
          "metadata": {},
          "execution_count": 28
        }
      ]
    },
    {
      "cell_type": "markdown",
      "source": [
        "### Variables Description"
      ],
      "metadata": {
        "id": "PBTbrJXOngz2"
      }
    },
    {
      "cell_type": "markdown",
      "source": [
        "The variable description of the Zomato Restaurant Clustering And Sentiment Analysis Dataset is as follows:\n",
        "\n",
        "###**Restaurant Dataset**\n",
        "\n",
        "1.   Name: Name of the Restaurants.    \n",
        "2.   Links: URL Links of the Restaurants in Zomato.      \n",
        "3.   Cost: Per Person Estimated Cost of the Dining.   \n",
        "4.   Collections: Labels that provide additional information about the restaurant.\n",
        "5.   Cuisines: Different types of food like Indian, Chinese, and American.\n",
        "6.   Timings: Time of the Restaurant Open and Closed.\n",
        "\n",
        "###**Reviews Dataset**\n",
        "\n",
        "1. Restaurant: Name of the Restaurants.\n",
        "2. Reviewer: Name of the Customer who reviewed.\n",
        "3. Review: Review Written by the Customers.\n",
        "4. Rating: Rating Given by the Customers (1 to 5).\n",
        "5. Metadata: Customer(reviewer) number of the Reviews given previously and how many Followers Customer(reviewer) has.\n",
        "6. Time: Date and Time of the Review.\n",
        "7. Pictures: Numbers of pictures posted with the review."
      ],
      "metadata": {
        "id": "aJV4KIxSnxay"
      }
    },
    {
      "cell_type": "markdown",
      "source": [
        "### Check Unique Values for each variable."
      ],
      "metadata": {
        "id": "u3PMJOP6ngxN"
      }
    },
    {
      "cell_type": "code",
      "source": [
        "# Check Unique Values for each variable of dataset Restaurant.\n",
        "print(\"Unique Value Counts for Each Variable:\")\n",
        "rest_df.nunique()\n"
      ],
      "metadata": {
        "id": "zms12Yq5n-jE",
        "colab": {
          "base_uri": "https://localhost:8080/"
        },
        "outputId": "9e0561ac-0109-4092-bc98-ca42a2bb0245"
      },
      "execution_count": 32,
      "outputs": [
        {
          "output_type": "stream",
          "name": "stdout",
          "text": [
            "Unique Value Counts for Each Variable:\n"
          ]
        },
        {
          "output_type": "execute_result",
          "data": {
            "text/plain": [
              "Name           105\n",
              "Links          105\n",
              "Cost            29\n",
              "Collections     42\n",
              "Cuisines        92\n",
              "Timings         77\n",
              "dtype: int64"
            ]
          },
          "metadata": {},
          "execution_count": 32
        }
      ]
    },
    {
      "cell_type": "code",
      "source": [
        "# Check Unique Values for each variable of dataset Reviews.\n",
        "print(\"Unique Value Counts for Each Variable:\")\n",
        "reviews_df.nunique()\n"
      ],
      "metadata": {
        "colab": {
          "base_uri": "https://localhost:8080/"
        },
        "id": "hCMlxvqw-6X3",
        "outputId": "996ee805-280c-4a54-9610-7708f9d13385"
      },
      "execution_count": 33,
      "outputs": [
        {
          "output_type": "stream",
          "name": "stdout",
          "text": [
            "Unique Value Counts for Each Variable:\n"
          ]
        },
        {
          "output_type": "execute_result",
          "data": {
            "text/plain": [
              "Restaurant     100\n",
              "Reviewer      7446\n",
              "Review        9364\n",
              "Rating          10\n",
              "Metadata      2477\n",
              "Time          9782\n",
              "Pictures        36\n",
              "dtype: int64"
            ]
          },
          "metadata": {},
          "execution_count": 33
        }
      ]
    },
    {
      "cell_type": "markdown",
      "source": [
        "## 3. ***Data Wrangling***"
      ],
      "metadata": {
        "id": "dauF4eBmngu3"
      }
    },
    {
      "cell_type": "markdown",
      "source": [
        "### Data Wrangling Code"
      ],
      "metadata": {
        "id": "bKJF3rekwFvQ"
      }
    },
    {
      "cell_type": "code",
      "source": [
        "# Write your code to make your dataset analysis ready.\n",
        "# Null values in restaurant data\n",
        "rest_df.isnull().sum()"
      ],
      "metadata": {
        "id": "wk-9a2fpoLcV",
        "colab": {
          "base_uri": "https://localhost:8080/"
        },
        "outputId": "0aeecb12-89c8-4631-8315-fa843d2ab818"
      },
      "execution_count": 34,
      "outputs": [
        {
          "output_type": "execute_result",
          "data": {
            "text/plain": [
              "Name            0\n",
              "Links           0\n",
              "Cost            0\n",
              "Collections    54\n",
              "Cuisines        0\n",
              "Timings         1\n",
              "dtype: int64"
            ]
          },
          "metadata": {},
          "execution_count": 34
        }
      ]
    },
    {
      "cell_type": "code",
      "source": [
        "# Droping collections column\n",
        "rest_df.drop('Collections', axis=1, inplace=True)"
      ],
      "metadata": {
        "id": "VjE3y1rwAsI1"
      },
      "execution_count": 35,
      "outputs": []
    },
    {
      "cell_type": "markdown",
      "source": [
        "Around 50% of the data is missing in the categorical column \"Collections\", which are just tags given by Zomato for better search results. Even when imputed with various categorical data imputing measures, it would be pretty difficult to match similar tags as the restaurants and then even more difficult to convert them into a meaningful numerical feature afterwards. If the information contained in the variable is not that high, it is better to drop the variable if it has 50% or more missing values."
      ],
      "metadata": {
        "id": "TNARY8MrA4GI"
      }
    },
    {
      "cell_type": "code",
      "source": [
        "# Impute one missing row in timing column with the mode\n",
        "rest_df['Timings'].fillna(rest_df['Timings'].mode()[0],inplace=True)"
      ],
      "metadata": {
        "id": "b3aG_u6WBbFM"
      },
      "execution_count": 36,
      "outputs": []
    },
    {
      "cell_type": "code",
      "source": [
        "# Check null values\n",
        "rest_df.isnull().sum()"
      ],
      "metadata": {
        "colab": {
          "base_uri": "https://localhost:8080/"
        },
        "id": "qw-fWJcTBr0T",
        "outputId": "93d285b0-fec0-496f-ac3c-4a9bd420fb09"
      },
      "execution_count": 38,
      "outputs": [
        {
          "output_type": "execute_result",
          "data": {
            "text/plain": [
              "Name        0\n",
              "Links       0\n",
              "Cost        0\n",
              "Cuisines    0\n",
              "Timings     0\n",
              "dtype: int64"
            ]
          },
          "metadata": {},
          "execution_count": 38
        }
      ]
    },
    {
      "cell_type": "markdown",
      "source": [
        "### What all manipulations have you done and insights you found?"
      ],
      "metadata": {
        "id": "MSa1f5Uengrz"
      }
    },
    {
      "cell_type": "markdown",
      "source": [
        "Answer Here."
      ],
      "metadata": {
        "id": "LbyXE7I1olp8"
      }
    },
    {
      "cell_type": "markdown",
      "source": [
        "## ***4. Data Vizualization, Storytelling & Experimenting with charts : Understand the relationships between variables***"
      ],
      "metadata": {
        "id": "GF8Ens_Soomf"
      }
    },
    {
      "cell_type": "markdown",
      "source": [
        "#### Chart - 1"
      ],
      "metadata": {
        "id": "0wOQAZs5pc--"
      }
    },
    {
      "cell_type": "code",
      "source": [
        "# Chart - 1 visualization code"
      ],
      "metadata": {
        "id": "7v_ESjsspbW7"
      },
      "execution_count": null,
      "outputs": []
    },
    {
      "cell_type": "markdown",
      "source": [
        "##### 1. Why did you pick the specific chart?"
      ],
      "metadata": {
        "id": "K5QZ13OEpz2H"
      }
    },
    {
      "cell_type": "markdown",
      "source": [
        "Answer Here."
      ],
      "metadata": {
        "id": "XESiWehPqBRc"
      }
    },
    {
      "cell_type": "markdown",
      "source": [
        "##### 2. What is/are the insight(s) found from the chart?"
      ],
      "metadata": {
        "id": "lQ7QKXXCp7Bj"
      }
    },
    {
      "cell_type": "markdown",
      "source": [
        "Answer Here"
      ],
      "metadata": {
        "id": "C_j1G7yiqdRP"
      }
    },
    {
      "cell_type": "markdown",
      "source": [
        "##### 3. Will the gained insights help creating a positive business impact?\n",
        "Are there any insights that lead to negative growth? Justify with specific reason."
      ],
      "metadata": {
        "id": "448CDAPjqfQr"
      }
    },
    {
      "cell_type": "markdown",
      "source": [
        "Answer Here"
      ],
      "metadata": {
        "id": "3cspy4FjqxJW"
      }
    },
    {
      "cell_type": "markdown",
      "source": [
        "#### Chart - 2"
      ],
      "metadata": {
        "id": "KSlN3yHqYklG"
      }
    },
    {
      "cell_type": "code",
      "source": [
        "# Chart - 2 visualization code"
      ],
      "metadata": {
        "id": "R4YgtaqtYklH"
      },
      "execution_count": null,
      "outputs": []
    },
    {
      "cell_type": "markdown",
      "source": [
        "##### 1. Why did you pick the specific chart?"
      ],
      "metadata": {
        "id": "t6dVpIINYklI"
      }
    },
    {
      "cell_type": "markdown",
      "source": [
        "Answer Here."
      ],
      "metadata": {
        "id": "5aaW0BYyYklI"
      }
    },
    {
      "cell_type": "markdown",
      "source": [
        "##### 2. What is/are the insight(s) found from the chart?"
      ],
      "metadata": {
        "id": "ijmpgYnKYklI"
      }
    },
    {
      "cell_type": "markdown",
      "source": [
        "Answer Here"
      ],
      "metadata": {
        "id": "PSx9atu2YklI"
      }
    },
    {
      "cell_type": "markdown",
      "source": [
        "##### 3. Will the gained insights help creating a positive business impact?\n",
        "Are there any insights that lead to negative growth? Justify with specific reason."
      ],
      "metadata": {
        "id": "-JiQyfWJYklI"
      }
    },
    {
      "cell_type": "markdown",
      "source": [
        "Answer Here"
      ],
      "metadata": {
        "id": "BcBbebzrYklV"
      }
    },
    {
      "cell_type": "markdown",
      "source": [
        "#### Chart - 3"
      ],
      "metadata": {
        "id": "EM7whBJCYoAo"
      }
    },
    {
      "cell_type": "code",
      "source": [
        "# Chart - 3 visualization code"
      ],
      "metadata": {
        "id": "t6GMdE67YoAp"
      },
      "execution_count": null,
      "outputs": []
    },
    {
      "cell_type": "markdown",
      "source": [
        "##### 1. Why did you pick the specific chart?"
      ],
      "metadata": {
        "id": "fge-S5ZAYoAp"
      }
    },
    {
      "cell_type": "markdown",
      "source": [
        "Answer Here."
      ],
      "metadata": {
        "id": "5dBItgRVYoAp"
      }
    },
    {
      "cell_type": "markdown",
      "source": [
        "##### 2. What is/are the insight(s) found from the chart?"
      ],
      "metadata": {
        "id": "85gYPyotYoAp"
      }
    },
    {
      "cell_type": "markdown",
      "source": [
        "Answer Here"
      ],
      "metadata": {
        "id": "4jstXR6OYoAp"
      }
    },
    {
      "cell_type": "markdown",
      "source": [
        "##### 3. Will the gained insights help creating a positive business impact?\n",
        "Are there any insights that lead to negative growth? Justify with specific reason."
      ],
      "metadata": {
        "id": "RoGjAbkUYoAp"
      }
    },
    {
      "cell_type": "markdown",
      "source": [
        "Answer Here"
      ],
      "metadata": {
        "id": "zfJ8IqMcYoAp"
      }
    },
    {
      "cell_type": "markdown",
      "source": [
        "#### Chart - 4"
      ],
      "metadata": {
        "id": "4Of9eVA-YrdM"
      }
    },
    {
      "cell_type": "code",
      "source": [
        "# Chart - 4 visualization code"
      ],
      "metadata": {
        "id": "irlUoxc8YrdO"
      },
      "execution_count": null,
      "outputs": []
    },
    {
      "cell_type": "markdown",
      "source": [
        "##### 1. Why did you pick the specific chart?"
      ],
      "metadata": {
        "id": "iky9q4vBYrdO"
      }
    },
    {
      "cell_type": "markdown",
      "source": [
        "Answer Here."
      ],
      "metadata": {
        "id": "aJRCwT6DYrdO"
      }
    },
    {
      "cell_type": "markdown",
      "source": [
        "##### 2. What is/are the insight(s) found from the chart?"
      ],
      "metadata": {
        "id": "F6T5p64dYrdO"
      }
    },
    {
      "cell_type": "markdown",
      "source": [
        "Answer Here"
      ],
      "metadata": {
        "id": "Xx8WAJvtYrdO"
      }
    },
    {
      "cell_type": "markdown",
      "source": [
        "##### 3. Will the gained insights help creating a positive business impact?\n",
        "Are there any insights that lead to negative growth? Justify with specific reason."
      ],
      "metadata": {
        "id": "y-Ehk30pYrdP"
      }
    },
    {
      "cell_type": "markdown",
      "source": [
        "Answer Here"
      ],
      "metadata": {
        "id": "jLNxxz7MYrdP"
      }
    },
    {
      "cell_type": "markdown",
      "source": [
        "#### Chart - 5"
      ],
      "metadata": {
        "id": "bamQiAODYuh1"
      }
    },
    {
      "cell_type": "code",
      "source": [
        "# Chart - 5 visualization code"
      ],
      "metadata": {
        "id": "TIJwrbroYuh3"
      },
      "execution_count": null,
      "outputs": []
    },
    {
      "cell_type": "markdown",
      "source": [
        "##### 1. Why did you pick the specific chart?"
      ],
      "metadata": {
        "id": "QHF8YVU7Yuh3"
      }
    },
    {
      "cell_type": "markdown",
      "source": [
        "Answer Here."
      ],
      "metadata": {
        "id": "dcxuIMRPYuh3"
      }
    },
    {
      "cell_type": "markdown",
      "source": [
        "##### 2. What is/are the insight(s) found from the chart?"
      ],
      "metadata": {
        "id": "GwzvFGzlYuh3"
      }
    },
    {
      "cell_type": "markdown",
      "source": [
        "Answer Here"
      ],
      "metadata": {
        "id": "uyqkiB8YYuh3"
      }
    },
    {
      "cell_type": "markdown",
      "source": [
        "##### 3. Will the gained insights help creating a positive business impact?\n",
        "Are there any insights that lead to negative growth? Justify with specific reason."
      ],
      "metadata": {
        "id": "qYpmQ266Yuh3"
      }
    },
    {
      "cell_type": "markdown",
      "source": [
        "Answer Here"
      ],
      "metadata": {
        "id": "_WtzZ_hCYuh4"
      }
    },
    {
      "cell_type": "markdown",
      "source": [
        "#### Chart - 6"
      ],
      "metadata": {
        "id": "OH-pJp9IphqM"
      }
    },
    {
      "cell_type": "code",
      "source": [
        "# Chart - 6 visualization code"
      ],
      "metadata": {
        "id": "kuRf4wtuphqN"
      },
      "execution_count": null,
      "outputs": []
    },
    {
      "cell_type": "markdown",
      "source": [
        "##### 1. Why did you pick the specific chart?"
      ],
      "metadata": {
        "id": "bbFf2-_FphqN"
      }
    },
    {
      "cell_type": "markdown",
      "source": [
        "Answer Here."
      ],
      "metadata": {
        "id": "loh7H2nzphqN"
      }
    },
    {
      "cell_type": "markdown",
      "source": [
        "##### 2. What is/are the insight(s) found from the chart?"
      ],
      "metadata": {
        "id": "_ouA3fa0phqN"
      }
    },
    {
      "cell_type": "markdown",
      "source": [
        "Answer Here"
      ],
      "metadata": {
        "id": "VECbqPI7phqN"
      }
    },
    {
      "cell_type": "markdown",
      "source": [
        "##### 3. Will the gained insights help creating a positive business impact?\n",
        "Are there any insights that lead to negative growth? Justify with specific reason."
      ],
      "metadata": {
        "id": "Seke61FWphqN"
      }
    },
    {
      "cell_type": "markdown",
      "source": [
        "Answer Here"
      ],
      "metadata": {
        "id": "DW4_bGpfphqN"
      }
    },
    {
      "cell_type": "markdown",
      "source": [
        "#### Chart - 7"
      ],
      "metadata": {
        "id": "PIIx-8_IphqN"
      }
    },
    {
      "cell_type": "code",
      "source": [
        "# Chart - 7 visualization code"
      ],
      "metadata": {
        "id": "lqAIGUfyphqO"
      },
      "execution_count": null,
      "outputs": []
    },
    {
      "cell_type": "markdown",
      "source": [
        "##### 1. Why did you pick the specific chart?"
      ],
      "metadata": {
        "id": "t27r6nlMphqO"
      }
    },
    {
      "cell_type": "markdown",
      "source": [
        "Answer Here."
      ],
      "metadata": {
        "id": "iv6ro40sphqO"
      }
    },
    {
      "cell_type": "markdown",
      "source": [
        "##### 2. What is/are the insight(s) found from the chart?"
      ],
      "metadata": {
        "id": "r2jJGEOYphqO"
      }
    },
    {
      "cell_type": "markdown",
      "source": [
        "Answer Here"
      ],
      "metadata": {
        "id": "Po6ZPi4hphqO"
      }
    },
    {
      "cell_type": "markdown",
      "source": [
        "##### 3. Will the gained insights help creating a positive business impact?\n",
        "Are there any insights that lead to negative growth? Justify with specific reason."
      ],
      "metadata": {
        "id": "b0JNsNcRphqO"
      }
    },
    {
      "cell_type": "markdown",
      "source": [
        "Answer Here"
      ],
      "metadata": {
        "id": "xvSq8iUTphqO"
      }
    },
    {
      "cell_type": "markdown",
      "source": [
        "#### Chart - 8"
      ],
      "metadata": {
        "id": "BZR9WyysphqO"
      }
    },
    {
      "cell_type": "code",
      "source": [
        "# Chart - 8 visualization code"
      ],
      "metadata": {
        "id": "TdPTWpAVphqO"
      },
      "execution_count": null,
      "outputs": []
    },
    {
      "cell_type": "markdown",
      "source": [
        "##### 1. Why did you pick the specific chart?"
      ],
      "metadata": {
        "id": "jj7wYXLtphqO"
      }
    },
    {
      "cell_type": "markdown",
      "source": [
        "Answer Here."
      ],
      "metadata": {
        "id": "Ob8u6rCTphqO"
      }
    },
    {
      "cell_type": "markdown",
      "source": [
        "##### 2. What is/are the insight(s) found from the chart?"
      ],
      "metadata": {
        "id": "eZrbJ2SmphqO"
      }
    },
    {
      "cell_type": "markdown",
      "source": [
        "Answer Here"
      ],
      "metadata": {
        "id": "mZtgC_hjphqO"
      }
    },
    {
      "cell_type": "markdown",
      "source": [
        "##### 3. Will the gained insights help creating a positive business impact?\n",
        "Are there any insights that lead to negative growth? Justify with specific reason."
      ],
      "metadata": {
        "id": "rFu4xreNphqO"
      }
    },
    {
      "cell_type": "markdown",
      "source": [
        "Answer Here"
      ],
      "metadata": {
        "id": "ey_0qi68phqO"
      }
    },
    {
      "cell_type": "markdown",
      "source": [
        "#### Chart - 9"
      ],
      "metadata": {
        "id": "YJ55k-q6phqO"
      }
    },
    {
      "cell_type": "code",
      "source": [
        "# Chart - 9 visualization code"
      ],
      "metadata": {
        "id": "B2aS4O1ophqO"
      },
      "execution_count": null,
      "outputs": []
    },
    {
      "cell_type": "markdown",
      "source": [
        "##### 1. Why did you pick the specific chart?"
      ],
      "metadata": {
        "id": "gCFgpxoyphqP"
      }
    },
    {
      "cell_type": "markdown",
      "source": [
        "Answer Here."
      ],
      "metadata": {
        "id": "TVxDimi2phqP"
      }
    },
    {
      "cell_type": "markdown",
      "source": [
        "##### 2. What is/are the insight(s) found from the chart?"
      ],
      "metadata": {
        "id": "OVtJsKN_phqQ"
      }
    },
    {
      "cell_type": "markdown",
      "source": [
        "Answer Here"
      ],
      "metadata": {
        "id": "ngGi97qjphqQ"
      }
    },
    {
      "cell_type": "markdown",
      "source": [
        "##### 3. Will the gained insights help creating a positive business impact?\n",
        "Are there any insights that lead to negative growth? Justify with specific reason."
      ],
      "metadata": {
        "id": "lssrdh5qphqQ"
      }
    },
    {
      "cell_type": "markdown",
      "source": [
        "Answer Here"
      ],
      "metadata": {
        "id": "tBpY5ekJphqQ"
      }
    },
    {
      "cell_type": "markdown",
      "source": [
        "#### Chart - 10"
      ],
      "metadata": {
        "id": "U2RJ9gkRphqQ"
      }
    },
    {
      "cell_type": "code",
      "source": [
        "# Chart - 10 visualization code"
      ],
      "metadata": {
        "id": "GM7a4YP4phqQ"
      },
      "execution_count": null,
      "outputs": []
    },
    {
      "cell_type": "markdown",
      "source": [
        "##### 1. Why did you pick the specific chart?"
      ],
      "metadata": {
        "id": "1M8mcRywphqQ"
      }
    },
    {
      "cell_type": "markdown",
      "source": [
        "Answer Here."
      ],
      "metadata": {
        "id": "8agQvks0phqQ"
      }
    },
    {
      "cell_type": "markdown",
      "source": [
        "##### 2. What is/are the insight(s) found from the chart?"
      ],
      "metadata": {
        "id": "tgIPom80phqQ"
      }
    },
    {
      "cell_type": "markdown",
      "source": [
        "Answer Here"
      ],
      "metadata": {
        "id": "Qp13pnNzphqQ"
      }
    },
    {
      "cell_type": "markdown",
      "source": [
        "##### 3. Will the gained insights help creating a positive business impact?\n",
        "Are there any insights that lead to negative growth? Justify with specific reason."
      ],
      "metadata": {
        "id": "JMzcOPDDphqR"
      }
    },
    {
      "cell_type": "markdown",
      "source": [
        "Answer Here"
      ],
      "metadata": {
        "id": "R4Ka1PC2phqR"
      }
    },
    {
      "cell_type": "markdown",
      "source": [
        "#### Chart - 11"
      ],
      "metadata": {
        "id": "x-EpHcCOp1ci"
      }
    },
    {
      "cell_type": "code",
      "source": [
        "# Chart - 11 visualization code"
      ],
      "metadata": {
        "id": "mAQTIvtqp1cj"
      },
      "execution_count": null,
      "outputs": []
    },
    {
      "cell_type": "markdown",
      "source": [
        "##### 1. Why did you pick the specific chart?"
      ],
      "metadata": {
        "id": "X_VqEhTip1ck"
      }
    },
    {
      "cell_type": "markdown",
      "source": [
        "Answer Here."
      ],
      "metadata": {
        "id": "-vsMzt_np1ck"
      }
    },
    {
      "cell_type": "markdown",
      "source": [
        "##### 2. What is/are the insight(s) found from the chart?"
      ],
      "metadata": {
        "id": "8zGJKyg5p1ck"
      }
    },
    {
      "cell_type": "markdown",
      "source": [
        "Answer Here"
      ],
      "metadata": {
        "id": "ZYdMsrqVp1ck"
      }
    },
    {
      "cell_type": "markdown",
      "source": [
        "##### 3. Will the gained insights help creating a positive business impact?\n",
        "Are there any insights that lead to negative growth? Justify with specific reason."
      ],
      "metadata": {
        "id": "PVzmfK_Ep1ck"
      }
    },
    {
      "cell_type": "markdown",
      "source": [
        "Answer Here"
      ],
      "metadata": {
        "id": "druuKYZpp1ck"
      }
    },
    {
      "cell_type": "markdown",
      "source": [
        "#### Chart - 12"
      ],
      "metadata": {
        "id": "n3dbpmDWp1ck"
      }
    },
    {
      "cell_type": "code",
      "source": [
        "# Chart - 12 visualization code"
      ],
      "metadata": {
        "id": "bwevp1tKp1ck"
      },
      "execution_count": null,
      "outputs": []
    },
    {
      "cell_type": "markdown",
      "source": [
        "##### 1. Why did you pick the specific chart?"
      ],
      "metadata": {
        "id": "ylSl6qgtp1ck"
      }
    },
    {
      "cell_type": "markdown",
      "source": [
        "Answer Here."
      ],
      "metadata": {
        "id": "m2xqNkiQp1ck"
      }
    },
    {
      "cell_type": "markdown",
      "source": [
        "##### 2. What is/are the insight(s) found from the chart?"
      ],
      "metadata": {
        "id": "ZWILFDl5p1ck"
      }
    },
    {
      "cell_type": "markdown",
      "source": [
        "Answer Here"
      ],
      "metadata": {
        "id": "x-lUsV2mp1ck"
      }
    },
    {
      "cell_type": "markdown",
      "source": [
        "##### 3. Will the gained insights help creating a positive business impact?\n",
        "Are there any insights that lead to negative growth? Justify with specific reason."
      ],
      "metadata": {
        "id": "M7G43BXep1ck"
      }
    },
    {
      "cell_type": "markdown",
      "source": [
        "Answer Here"
      ],
      "metadata": {
        "id": "5wwDJXsLp1cl"
      }
    },
    {
      "cell_type": "markdown",
      "source": [
        "#### Chart - 13"
      ],
      "metadata": {
        "id": "Ag9LCva-p1cl"
      }
    },
    {
      "cell_type": "code",
      "source": [
        "# Chart - 13 visualization code"
      ],
      "metadata": {
        "id": "EUfxeq9-p1cl"
      },
      "execution_count": null,
      "outputs": []
    },
    {
      "cell_type": "markdown",
      "source": [
        "##### 1. Why did you pick the specific chart?"
      ],
      "metadata": {
        "id": "E6MkPsBcp1cl"
      }
    },
    {
      "cell_type": "markdown",
      "source": [
        "Answer Here."
      ],
      "metadata": {
        "id": "V22bRsFWp1cl"
      }
    },
    {
      "cell_type": "markdown",
      "source": [
        "##### 2. What is/are the insight(s) found from the chart?"
      ],
      "metadata": {
        "id": "2cELzS2fp1cl"
      }
    },
    {
      "cell_type": "markdown",
      "source": [
        "Answer Here"
      ],
      "metadata": {
        "id": "ozQPc2_Ip1cl"
      }
    },
    {
      "cell_type": "markdown",
      "source": [
        "##### 3. Will the gained insights help creating a positive business impact?\n",
        "Are there any insights that lead to negative growth? Justify with specific reason."
      ],
      "metadata": {
        "id": "3MPXvC8up1cl"
      }
    },
    {
      "cell_type": "markdown",
      "source": [
        "Answer Here"
      ],
      "metadata": {
        "id": "GL8l1tdLp1cl"
      }
    },
    {
      "cell_type": "markdown",
      "source": [
        "#### Chart - 14 - Correlation Heatmap"
      ],
      "metadata": {
        "id": "NC_X3p0fY2L0"
      }
    },
    {
      "cell_type": "code",
      "source": [
        "# Correlation Heatmap visualization code"
      ],
      "metadata": {
        "id": "xyC9zolEZNRQ"
      },
      "execution_count": null,
      "outputs": []
    },
    {
      "cell_type": "markdown",
      "source": [
        "##### 1. Why did you pick the specific chart?"
      ],
      "metadata": {
        "id": "UV0SzAkaZNRQ"
      }
    },
    {
      "cell_type": "markdown",
      "source": [
        "Answer Here."
      ],
      "metadata": {
        "id": "DVPuT8LYZNRQ"
      }
    },
    {
      "cell_type": "markdown",
      "source": [
        "##### 2. What is/are the insight(s) found from the chart?"
      ],
      "metadata": {
        "id": "YPEH6qLeZNRQ"
      }
    },
    {
      "cell_type": "markdown",
      "source": [
        "Answer Here"
      ],
      "metadata": {
        "id": "bfSqtnDqZNRR"
      }
    },
    {
      "cell_type": "markdown",
      "source": [
        "#### Chart - 15 - Pair Plot"
      ],
      "metadata": {
        "id": "q29F0dvdveiT"
      }
    },
    {
      "cell_type": "code",
      "source": [
        "# Pair Plot visualization code"
      ],
      "metadata": {
        "id": "o58-TEIhveiU"
      },
      "execution_count": null,
      "outputs": []
    },
    {
      "cell_type": "markdown",
      "source": [
        "##### 1. Why did you pick the specific chart?"
      ],
      "metadata": {
        "id": "EXh0U9oCveiU"
      }
    },
    {
      "cell_type": "markdown",
      "source": [
        "Answer Here."
      ],
      "metadata": {
        "id": "eMmPjTByveiU"
      }
    },
    {
      "cell_type": "markdown",
      "source": [
        "##### 2. What is/are the insight(s) found from the chart?"
      ],
      "metadata": {
        "id": "22aHeOlLveiV"
      }
    },
    {
      "cell_type": "markdown",
      "source": [
        "Answer Here"
      ],
      "metadata": {
        "id": "uPQ8RGwHveiV"
      }
    },
    {
      "cell_type": "markdown",
      "source": [
        "## ***5. Hypothesis Testing***"
      ],
      "metadata": {
        "id": "g-ATYxFrGrvw"
      }
    },
    {
      "cell_type": "markdown",
      "source": [
        "### Based on your chart experiments, define three hypothetical statements from the dataset. In the next three questions, perform hypothesis testing to obtain final conclusion about the statements through your code and statistical testing."
      ],
      "metadata": {
        "id": "Yfr_Vlr8HBkt"
      }
    },
    {
      "cell_type": "markdown",
      "source": [
        "Answer Here."
      ],
      "metadata": {
        "id": "-7MS06SUHkB-"
      }
    },
    {
      "cell_type": "markdown",
      "source": [
        "### Hypothetical Statement - 1"
      ],
      "metadata": {
        "id": "8yEUt7NnHlrM"
      }
    },
    {
      "cell_type": "markdown",
      "source": [
        "#### 1. State Your research hypothesis as a null hypothesis and alternate hypothesis."
      ],
      "metadata": {
        "id": "tEA2Xm5dHt1r"
      }
    },
    {
      "cell_type": "markdown",
      "source": [
        "Answer Here."
      ],
      "metadata": {
        "id": "HI9ZP0laH0D-"
      }
    },
    {
      "cell_type": "markdown",
      "source": [
        "#### 2. Perform an appropriate statistical test."
      ],
      "metadata": {
        "id": "I79__PHVH19G"
      }
    },
    {
      "cell_type": "code",
      "source": [
        "# Perform Statistical Test to obtain P-Value"
      ],
      "metadata": {
        "id": "oZrfquKtyian"
      },
      "execution_count": null,
      "outputs": []
    },
    {
      "cell_type": "markdown",
      "source": [
        "##### Which statistical test have you done to obtain P-Value?"
      ],
      "metadata": {
        "id": "Ou-I18pAyIpj"
      }
    },
    {
      "cell_type": "markdown",
      "source": [
        "Answer Here."
      ],
      "metadata": {
        "id": "s2U0kk00ygSB"
      }
    },
    {
      "cell_type": "markdown",
      "source": [
        "##### Why did you choose the specific statistical test?"
      ],
      "metadata": {
        "id": "fF3858GYyt-u"
      }
    },
    {
      "cell_type": "markdown",
      "source": [
        "Answer Here."
      ],
      "metadata": {
        "id": "HO4K0gP5y3B4"
      }
    },
    {
      "cell_type": "markdown",
      "source": [
        "### Hypothetical Statement - 2"
      ],
      "metadata": {
        "id": "4_0_7-oCpUZd"
      }
    },
    {
      "cell_type": "markdown",
      "source": [
        "#### 1. State Your research hypothesis as a null hypothesis and alternate hypothesis."
      ],
      "metadata": {
        "id": "hwyV_J3ipUZe"
      }
    },
    {
      "cell_type": "markdown",
      "source": [
        "Answer Here."
      ],
      "metadata": {
        "id": "FnpLGJ-4pUZe"
      }
    },
    {
      "cell_type": "markdown",
      "source": [
        "#### 2. Perform an appropriate statistical test."
      ],
      "metadata": {
        "id": "3yB-zSqbpUZe"
      }
    },
    {
      "cell_type": "code",
      "source": [
        "# Perform Statistical Test to obtain P-Value"
      ],
      "metadata": {
        "id": "sWxdNTXNpUZe"
      },
      "execution_count": null,
      "outputs": []
    },
    {
      "cell_type": "markdown",
      "source": [
        "##### Which statistical test have you done to obtain P-Value?"
      ],
      "metadata": {
        "id": "dEUvejAfpUZe"
      }
    },
    {
      "cell_type": "markdown",
      "source": [
        "Answer Here."
      ],
      "metadata": {
        "id": "oLDrPz7HpUZf"
      }
    },
    {
      "cell_type": "markdown",
      "source": [
        "##### Why did you choose the specific statistical test?"
      ],
      "metadata": {
        "id": "Fd15vwWVpUZf"
      }
    },
    {
      "cell_type": "markdown",
      "source": [
        "Answer Here."
      ],
      "metadata": {
        "id": "4xOGYyiBpUZf"
      }
    },
    {
      "cell_type": "markdown",
      "source": [
        "### Hypothetical Statement - 3"
      ],
      "metadata": {
        "id": "bn_IUdTipZyH"
      }
    },
    {
      "cell_type": "markdown",
      "source": [
        "#### 1. State Your research hypothesis as a null hypothesis and alternate hypothesis."
      ],
      "metadata": {
        "id": "49K5P_iCpZyH"
      }
    },
    {
      "cell_type": "markdown",
      "source": [
        "Answer Here."
      ],
      "metadata": {
        "id": "7gWI5rT9pZyH"
      }
    },
    {
      "cell_type": "markdown",
      "source": [
        "#### 2. Perform an appropriate statistical test."
      ],
      "metadata": {
        "id": "Nff-vKELpZyI"
      }
    },
    {
      "cell_type": "code",
      "source": [
        "# Perform Statistical Test to obtain P-Value"
      ],
      "metadata": {
        "id": "s6AnJQjtpZyI"
      },
      "execution_count": null,
      "outputs": []
    },
    {
      "cell_type": "markdown",
      "source": [
        "##### Which statistical test have you done to obtain P-Value?"
      ],
      "metadata": {
        "id": "kLW572S8pZyI"
      }
    },
    {
      "cell_type": "markdown",
      "source": [
        "Answer Here."
      ],
      "metadata": {
        "id": "ytWJ8v15pZyI"
      }
    },
    {
      "cell_type": "markdown",
      "source": [
        "##### Why did you choose the specific statistical test?"
      ],
      "metadata": {
        "id": "dWbDXHzopZyI"
      }
    },
    {
      "cell_type": "markdown",
      "source": [
        "Answer Here."
      ],
      "metadata": {
        "id": "M99G98V6pZyI"
      }
    },
    {
      "cell_type": "markdown",
      "source": [
        "## ***6. Feature Engineering & Data Pre-processing***"
      ],
      "metadata": {
        "id": "yLjJCtPM0KBk"
      }
    },
    {
      "cell_type": "markdown",
      "source": [
        "### 1. Handling Missing Values"
      ],
      "metadata": {
        "id": "xiyOF9F70UgQ"
      }
    },
    {
      "cell_type": "code",
      "source": [
        "# Handling Missing Values & Missing Value Imputation"
      ],
      "metadata": {
        "id": "iRsAHk1K0fpS"
      },
      "execution_count": null,
      "outputs": []
    },
    {
      "cell_type": "markdown",
      "source": [
        "#### What all missing value imputation techniques have you used and why did you use those techniques?"
      ],
      "metadata": {
        "id": "7wuGOrhz0itI"
      }
    },
    {
      "cell_type": "markdown",
      "source": [
        "Answer Here."
      ],
      "metadata": {
        "id": "1ixusLtI0pqI"
      }
    },
    {
      "cell_type": "markdown",
      "source": [
        "### 2. Handling Outliers"
      ],
      "metadata": {
        "id": "id1riN9m0vUs"
      }
    },
    {
      "cell_type": "code",
      "source": [
        "# Handling Outliers & Outlier treatments"
      ],
      "metadata": {
        "id": "M6w2CzZf04JK"
      },
      "execution_count": null,
      "outputs": []
    },
    {
      "cell_type": "markdown",
      "source": [
        "##### What all outlier treatment techniques have you used and why did you use those techniques?"
      ],
      "metadata": {
        "id": "578E2V7j08f6"
      }
    },
    {
      "cell_type": "markdown",
      "source": [
        "Answer Here."
      ],
      "metadata": {
        "id": "uGZz5OrT1HH-"
      }
    },
    {
      "cell_type": "markdown",
      "source": [
        "### 3. Categorical Encoding"
      ],
      "metadata": {
        "id": "89xtkJwZ18nB"
      }
    },
    {
      "cell_type": "code",
      "source": [
        "# Encode your categorical columns"
      ],
      "metadata": {
        "id": "21JmIYMG2hEo"
      },
      "execution_count": null,
      "outputs": []
    },
    {
      "cell_type": "markdown",
      "source": [
        "#### What all categorical encoding techniques have you used & why did you use those techniques?"
      ],
      "metadata": {
        "id": "67NQN5KX2AMe"
      }
    },
    {
      "cell_type": "markdown",
      "source": [
        "Answer Here."
      ],
      "metadata": {
        "id": "UDaue5h32n_G"
      }
    },
    {
      "cell_type": "markdown",
      "source": [
        "### 4. Textual Data Preprocessing\n",
        "(It's mandatory for textual dataset i.e., NLP, Sentiment Analysis, Text Clustering etc.)"
      ],
      "metadata": {
        "id": "Iwf50b-R2tYG"
      }
    },
    {
      "cell_type": "markdown",
      "source": [
        "#### 1. Expand Contraction"
      ],
      "metadata": {
        "id": "GMQiZwjn3iu7"
      }
    },
    {
      "cell_type": "code",
      "source": [
        "# Expand Contraction"
      ],
      "metadata": {
        "id": "PTouz10C3oNN"
      },
      "execution_count": null,
      "outputs": []
    },
    {
      "cell_type": "markdown",
      "source": [
        "#### 2. Lower Casing"
      ],
      "metadata": {
        "id": "WVIkgGqN3qsr"
      }
    },
    {
      "cell_type": "code",
      "source": [
        "# Lower Casing"
      ],
      "metadata": {
        "id": "88JnJ1jN3w7j"
      },
      "execution_count": null,
      "outputs": []
    },
    {
      "cell_type": "markdown",
      "source": [
        "#### 3. Removing Punctuations"
      ],
      "metadata": {
        "id": "XkPnILGE3zoT"
      }
    },
    {
      "cell_type": "code",
      "source": [
        "# Remove Punctuations"
      ],
      "metadata": {
        "id": "vqbBqNaA33c0"
      },
      "execution_count": null,
      "outputs": []
    },
    {
      "cell_type": "markdown",
      "source": [
        "#### 4. Removing URLs & Removing words and digits contain digits."
      ],
      "metadata": {
        "id": "Hlsf0x5436Go"
      }
    },
    {
      "cell_type": "code",
      "source": [
        "# Remove URLs & Remove words and digits contain digits"
      ],
      "metadata": {
        "id": "2sxKgKxu4Ip3"
      },
      "execution_count": null,
      "outputs": []
    },
    {
      "cell_type": "markdown",
      "source": [
        "#### 5. Removing Stopwords & Removing White spaces"
      ],
      "metadata": {
        "id": "mT9DMSJo4nBL"
      }
    },
    {
      "cell_type": "code",
      "source": [
        "# Remove Stopwords"
      ],
      "metadata": {
        "id": "T2LSJh154s8W"
      },
      "execution_count": null,
      "outputs": []
    },
    {
      "cell_type": "code",
      "source": [
        "# Remove White spaces"
      ],
      "metadata": {
        "id": "EgLJGffy4vm0"
      },
      "execution_count": null,
      "outputs": []
    },
    {
      "cell_type": "markdown",
      "source": [
        "#### 6. Rephrase Text"
      ],
      "metadata": {
        "id": "c49ITxTc407N"
      }
    },
    {
      "cell_type": "code",
      "source": [
        "# Rephrase Text"
      ],
      "metadata": {
        "id": "foqY80Qu48N2"
      },
      "execution_count": null,
      "outputs": []
    },
    {
      "cell_type": "markdown",
      "source": [
        "#### 7. Tokenization"
      ],
      "metadata": {
        "id": "OeJFEK0N496M"
      }
    },
    {
      "cell_type": "code",
      "source": [
        "# Tokenization"
      ],
      "metadata": {
        "id": "ijx1rUOS5CUU"
      },
      "execution_count": null,
      "outputs": []
    },
    {
      "cell_type": "markdown",
      "source": [
        "#### 8. Text Normalization"
      ],
      "metadata": {
        "id": "9ExmJH0g5HBk"
      }
    },
    {
      "cell_type": "code",
      "source": [
        "# Normalizing Text (i.e., Stemming, Lemmatization etc.)"
      ],
      "metadata": {
        "id": "AIJ1a-Zc5PY8"
      },
      "execution_count": null,
      "outputs": []
    },
    {
      "cell_type": "markdown",
      "source": [
        "##### Which text normalization technique have you used and why?"
      ],
      "metadata": {
        "id": "cJNqERVU536h"
      }
    },
    {
      "cell_type": "markdown",
      "source": [
        "Answer Here."
      ],
      "metadata": {
        "id": "Z9jKVxE06BC1"
      }
    },
    {
      "cell_type": "markdown",
      "source": [
        "#### 9. Part of speech tagging"
      ],
      "metadata": {
        "id": "k5UmGsbsOxih"
      }
    },
    {
      "cell_type": "code",
      "source": [
        "# POS Taging"
      ],
      "metadata": {
        "id": "btT3ZJBAO6Ik"
      },
      "execution_count": null,
      "outputs": []
    },
    {
      "cell_type": "markdown",
      "source": [
        "#### 10. Text Vectorization"
      ],
      "metadata": {
        "id": "T0VqWOYE6DLQ"
      }
    },
    {
      "cell_type": "code",
      "source": [
        "# Vectorizing Text"
      ],
      "metadata": {
        "id": "yBRtdhth6JDE"
      },
      "execution_count": null,
      "outputs": []
    },
    {
      "cell_type": "markdown",
      "source": [
        "##### Which text vectorization technique have you used and why?"
      ],
      "metadata": {
        "id": "qBMux9mC6MCf"
      }
    },
    {
      "cell_type": "markdown",
      "source": [
        "Answer Here."
      ],
      "metadata": {
        "id": "su2EnbCh6UKQ"
      }
    },
    {
      "cell_type": "markdown",
      "source": [
        "### 4. Feature Manipulation & Selection"
      ],
      "metadata": {
        "id": "-oLEiFgy-5Pf"
      }
    },
    {
      "cell_type": "markdown",
      "source": [
        "#### 1. Feature Manipulation"
      ],
      "metadata": {
        "id": "C74aWNz2AliB"
      }
    },
    {
      "cell_type": "code",
      "source": [
        "# Manipulate Features to minimize feature correlation and create new features"
      ],
      "metadata": {
        "id": "h1qC4yhBApWC"
      },
      "execution_count": null,
      "outputs": []
    },
    {
      "cell_type": "markdown",
      "source": [
        "#### 2. Feature Selection"
      ],
      "metadata": {
        "id": "2DejudWSA-a0"
      }
    },
    {
      "cell_type": "code",
      "source": [
        "# Select your features wisely to avoid overfitting"
      ],
      "metadata": {
        "id": "YLhe8UmaBCEE"
      },
      "execution_count": null,
      "outputs": []
    },
    {
      "cell_type": "markdown",
      "source": [
        "##### What all feature selection methods have you used  and why?"
      ],
      "metadata": {
        "id": "pEMng2IbBLp7"
      }
    },
    {
      "cell_type": "markdown",
      "source": [
        "Answer Here."
      ],
      "metadata": {
        "id": "rb2Lh6Z8BgGs"
      }
    },
    {
      "cell_type": "markdown",
      "source": [
        "##### Which all features you found important and why?"
      ],
      "metadata": {
        "id": "rAdphbQ9Bhjc"
      }
    },
    {
      "cell_type": "markdown",
      "source": [
        "Answer Here."
      ],
      "metadata": {
        "id": "fGgaEstsBnaf"
      }
    },
    {
      "cell_type": "markdown",
      "source": [
        "### 5. Data Transformation"
      ],
      "metadata": {
        "id": "TNVZ9zx19K6k"
      }
    },
    {
      "cell_type": "markdown",
      "source": [
        "#### Do you think that your data needs to be transformed? If yes, which transformation have you used. Explain Why?"
      ],
      "metadata": {
        "id": "nqoHp30x9hH9"
      }
    },
    {
      "cell_type": "code",
      "source": [
        "# Transform Your data"
      ],
      "metadata": {
        "id": "I6quWQ1T9rtH"
      },
      "execution_count": null,
      "outputs": []
    },
    {
      "cell_type": "markdown",
      "source": [
        "### 6. Data Scaling"
      ],
      "metadata": {
        "id": "rMDnDkt2B6du"
      }
    },
    {
      "cell_type": "code",
      "source": [
        "# Scaling your data"
      ],
      "metadata": {
        "id": "dL9LWpySC6x_"
      },
      "execution_count": null,
      "outputs": []
    },
    {
      "cell_type": "markdown",
      "source": [
        "##### Which method have you used to scale you data and why?"
      ],
      "metadata": {
        "id": "yiiVWRdJDDil"
      }
    },
    {
      "cell_type": "markdown",
      "source": [
        "### 7. Dimesionality Reduction"
      ],
      "metadata": {
        "id": "1UUpS68QDMuG"
      }
    },
    {
      "cell_type": "markdown",
      "source": [
        "##### Do you think that dimensionality reduction is needed? Explain Why?"
      ],
      "metadata": {
        "id": "kexQrXU-DjzY"
      }
    },
    {
      "cell_type": "markdown",
      "source": [
        "Answer Here."
      ],
      "metadata": {
        "id": "GGRlBsSGDtTQ"
      }
    },
    {
      "cell_type": "code",
      "source": [
        "# DImensionality Reduction (If needed)"
      ],
      "metadata": {
        "id": "kQfvxBBHDvCa"
      },
      "execution_count": null,
      "outputs": []
    },
    {
      "cell_type": "markdown",
      "source": [
        "##### Which dimensionality reduction technique have you used and why? (If dimensionality reduction done on dataset.)"
      ],
      "metadata": {
        "id": "T5CmagL3EC8N"
      }
    },
    {
      "cell_type": "markdown",
      "source": [
        "Answer Here."
      ],
      "metadata": {
        "id": "ZKr75IDuEM7t"
      }
    },
    {
      "cell_type": "markdown",
      "source": [
        "### 8. Data Splitting"
      ],
      "metadata": {
        "id": "BhH2vgX9EjGr"
      }
    },
    {
      "cell_type": "code",
      "source": [
        "# Split your data to train and test. Choose Splitting ratio wisely."
      ],
      "metadata": {
        "id": "0CTyd2UwEyNM"
      },
      "execution_count": null,
      "outputs": []
    },
    {
      "cell_type": "markdown",
      "source": [
        "##### What data splitting ratio have you used and why?"
      ],
      "metadata": {
        "id": "qjKvONjwE8ra"
      }
    },
    {
      "cell_type": "markdown",
      "source": [
        "Answer Here."
      ],
      "metadata": {
        "id": "Y2lJ8cobFDb_"
      }
    },
    {
      "cell_type": "markdown",
      "source": [
        "### 9. Handling Imbalanced Dataset"
      ],
      "metadata": {
        "id": "P1XJ9OREExlT"
      }
    },
    {
      "cell_type": "markdown",
      "source": [
        "##### Do you think the dataset is imbalanced? Explain Why."
      ],
      "metadata": {
        "id": "VFOzZv6IFROw"
      }
    },
    {
      "cell_type": "markdown",
      "source": [
        "Answer Here."
      ],
      "metadata": {
        "id": "GeKDIv7pFgcC"
      }
    },
    {
      "cell_type": "code",
      "source": [
        "# Handling Imbalanced Dataset (If needed)"
      ],
      "metadata": {
        "id": "nQsRhhZLFiDs"
      },
      "execution_count": null,
      "outputs": []
    },
    {
      "cell_type": "markdown",
      "source": [
        "##### What technique did you use to handle the imbalance dataset and why? (If needed to be balanced)"
      ],
      "metadata": {
        "id": "TIqpNgepFxVj"
      }
    },
    {
      "cell_type": "markdown",
      "source": [
        "Answer Here."
      ],
      "metadata": {
        "id": "qbet1HwdGDTz"
      }
    },
    {
      "cell_type": "markdown",
      "source": [
        "## ***7. ML Model Implementation***"
      ],
      "metadata": {
        "id": "VfCC591jGiD4"
      }
    },
    {
      "cell_type": "markdown",
      "source": [
        "### ML Model - 1"
      ],
      "metadata": {
        "id": "OB4l2ZhMeS1U"
      }
    },
    {
      "cell_type": "code",
      "source": [
        "# ML Model - 1 Implementation\n",
        "\n",
        "# Fit the Algorithm\n",
        "\n",
        "# Predict on the model"
      ],
      "metadata": {
        "id": "7ebyywQieS1U"
      },
      "execution_count": null,
      "outputs": []
    },
    {
      "cell_type": "markdown",
      "source": [
        "#### 1. Explain the ML Model used and it's performance using Evaluation metric Score Chart."
      ],
      "metadata": {
        "id": "ArJBuiUVfxKd"
      }
    },
    {
      "cell_type": "code",
      "source": [
        "# Visualizing evaluation Metric Score chart"
      ],
      "metadata": {
        "id": "rqD5ZohzfxKe"
      },
      "execution_count": null,
      "outputs": []
    },
    {
      "cell_type": "markdown",
      "source": [
        "#### 2. Cross- Validation & Hyperparameter Tuning"
      ],
      "metadata": {
        "id": "4qY1EAkEfxKe"
      }
    },
    {
      "cell_type": "code",
      "source": [
        "# ML Model - 1 Implementation with hyperparameter optimization techniques (i.e., GridSearch CV, RandomSearch CV, Bayesian Optimization etc.)\n",
        "\n",
        "# Fit the Algorithm\n",
        "\n",
        "# Predict on the model"
      ],
      "metadata": {
        "id": "Dy61ujd6fxKe"
      },
      "execution_count": null,
      "outputs": []
    },
    {
      "cell_type": "markdown",
      "source": [
        "##### Which hyperparameter optimization technique have you used and why?"
      ],
      "metadata": {
        "id": "PiV4Ypx8fxKe"
      }
    },
    {
      "cell_type": "markdown",
      "source": [
        "Answer Here."
      ],
      "metadata": {
        "id": "negyGRa7fxKf"
      }
    },
    {
      "cell_type": "markdown",
      "source": [
        "##### Have you seen any improvement? Note down the improvement with updates Evaluation metric Score Chart."
      ],
      "metadata": {
        "id": "TfvqoZmBfxKf"
      }
    },
    {
      "cell_type": "markdown",
      "source": [
        "Answer Here."
      ],
      "metadata": {
        "id": "OaLui8CcfxKf"
      }
    },
    {
      "cell_type": "markdown",
      "source": [
        "### ML Model - 2"
      ],
      "metadata": {
        "id": "dJ2tPlVmpsJ0"
      }
    },
    {
      "cell_type": "markdown",
      "source": [
        "#### 1. Explain the ML Model used and it's performance using Evaluation metric Score Chart."
      ],
      "metadata": {
        "id": "JWYfwnehpsJ1"
      }
    },
    {
      "cell_type": "code",
      "source": [
        "# Visualizing evaluation Metric Score chart"
      ],
      "metadata": {
        "id": "yEl-hgQWpsJ1"
      },
      "execution_count": null,
      "outputs": []
    },
    {
      "cell_type": "markdown",
      "source": [
        "#### 2. Cross- Validation & Hyperparameter Tuning"
      ],
      "metadata": {
        "id": "-jK_YjpMpsJ2"
      }
    },
    {
      "cell_type": "code",
      "source": [
        "# ML Model - 1 Implementation with hyperparameter optimization techniques (i.e., GridSearch CV, RandomSearch CV, Bayesian Optimization etc.)\n",
        "\n",
        "# Fit the Algorithm\n",
        "\n",
        "# Predict on the model"
      ],
      "metadata": {
        "id": "Dn0EOfS6psJ2"
      },
      "execution_count": null,
      "outputs": []
    },
    {
      "cell_type": "markdown",
      "source": [
        "##### Which hyperparameter optimization technique have you used and why?"
      ],
      "metadata": {
        "id": "HAih1iBOpsJ2"
      }
    },
    {
      "cell_type": "markdown",
      "source": [
        "Answer Here."
      ],
      "metadata": {
        "id": "9kBgjYcdpsJ2"
      }
    },
    {
      "cell_type": "markdown",
      "source": [
        "##### Have you seen any improvement? Note down the improvement with updates Evaluation metric Score Chart."
      ],
      "metadata": {
        "id": "zVGeBEFhpsJ2"
      }
    },
    {
      "cell_type": "markdown",
      "source": [
        "Answer Here."
      ],
      "metadata": {
        "id": "74yRdG6UpsJ3"
      }
    },
    {
      "cell_type": "markdown",
      "source": [
        "#### 3. Explain each evaluation metric's indication towards business and the business impact pf the ML model used."
      ],
      "metadata": {
        "id": "bmKjuQ-FpsJ3"
      }
    },
    {
      "cell_type": "markdown",
      "source": [
        "Answer Here."
      ],
      "metadata": {
        "id": "BDKtOrBQpsJ3"
      }
    },
    {
      "cell_type": "markdown",
      "source": [
        "### ML Model - 3"
      ],
      "metadata": {
        "id": "Fze-IPXLpx6K"
      }
    },
    {
      "cell_type": "code",
      "source": [
        "# ML Model - 3 Implementation\n",
        "\n",
        "# Fit the Algorithm\n",
        "\n",
        "# Predict on the model"
      ],
      "metadata": {
        "id": "FFrSXAtrpx6M"
      },
      "execution_count": null,
      "outputs": []
    },
    {
      "cell_type": "markdown",
      "source": [
        "#### 1. Explain the ML Model used and it's performance using Evaluation metric Score Chart."
      ],
      "metadata": {
        "id": "7AN1z2sKpx6M"
      }
    },
    {
      "cell_type": "code",
      "source": [
        "# Visualizing evaluation Metric Score chart"
      ],
      "metadata": {
        "id": "xIY4lxxGpx6M"
      },
      "execution_count": null,
      "outputs": []
    },
    {
      "cell_type": "markdown",
      "source": [
        "#### 2. Cross- Validation & Hyperparameter Tuning"
      ],
      "metadata": {
        "id": "9PIHJqyupx6M"
      }
    },
    {
      "cell_type": "code",
      "source": [
        "# ML Model - 3 Implementation with hyperparameter optimization techniques (i.e., GridSearch CV, RandomSearch CV, Bayesian Optimization etc.)\n",
        "\n",
        "# Fit the Algorithm\n",
        "\n",
        "# Predict on the model"
      ],
      "metadata": {
        "id": "eSVXuaSKpx6M"
      },
      "execution_count": null,
      "outputs": []
    },
    {
      "cell_type": "markdown",
      "source": [
        "##### Which hyperparameter optimization technique have you used and why?"
      ],
      "metadata": {
        "id": "_-qAgymDpx6N"
      }
    },
    {
      "cell_type": "markdown",
      "source": [
        "Answer Here."
      ],
      "metadata": {
        "id": "lQMffxkwpx6N"
      }
    },
    {
      "cell_type": "markdown",
      "source": [
        "##### Have you seen any improvement? Note down the improvement with updates Evaluation metric Score Chart."
      ],
      "metadata": {
        "id": "Z-hykwinpx6N"
      }
    },
    {
      "cell_type": "markdown",
      "source": [
        "Answer Here."
      ],
      "metadata": {
        "id": "MzVzZC6opx6N"
      }
    },
    {
      "cell_type": "markdown",
      "source": [
        "### 1. Which Evaluation metrics did you consider for a positive business impact and why?"
      ],
      "metadata": {
        "id": "h_CCil-SKHpo"
      }
    },
    {
      "cell_type": "markdown",
      "source": [
        "Answer Here."
      ],
      "metadata": {
        "id": "jHVz9hHDKFms"
      }
    },
    {
      "cell_type": "markdown",
      "source": [
        "### 2. Which ML model did you choose from the above created models as your final prediction model and why?"
      ],
      "metadata": {
        "id": "cBFFvTBNJzUa"
      }
    },
    {
      "cell_type": "markdown",
      "source": [
        "Answer Here."
      ],
      "metadata": {
        "id": "6ksF5Q1LKTVm"
      }
    },
    {
      "cell_type": "markdown",
      "source": [
        "### 3. Explain the model which you have used and the feature importance using any model explainability tool?"
      ],
      "metadata": {
        "id": "HvGl1hHyA_VK"
      }
    },
    {
      "cell_type": "markdown",
      "source": [
        "Answer Here."
      ],
      "metadata": {
        "id": "YnvVTiIxBL-C"
      }
    },
    {
      "cell_type": "markdown",
      "source": [
        "## ***8.*** ***Future Work (Optional)***"
      ],
      "metadata": {
        "id": "EyNgTHvd2WFk"
      }
    },
    {
      "cell_type": "markdown",
      "source": [
        "### 1. Save the best performing ml model in a pickle file or joblib file format for deployment process.\n"
      ],
      "metadata": {
        "id": "KH5McJBi2d8v"
      }
    },
    {
      "cell_type": "code",
      "source": [
        "# Save the File"
      ],
      "metadata": {
        "id": "bQIANRl32f4J"
      },
      "execution_count": null,
      "outputs": []
    },
    {
      "cell_type": "markdown",
      "source": [
        "### 2. Again Load the saved model file and try to predict unseen data for a sanity check.\n"
      ],
      "metadata": {
        "id": "iW_Lq9qf2h6X"
      }
    },
    {
      "cell_type": "code",
      "source": [
        "# Load the File and predict unseen data."
      ],
      "metadata": {
        "id": "oEXk9ydD2nVC"
      },
      "execution_count": null,
      "outputs": []
    },
    {
      "cell_type": "markdown",
      "source": [
        "### ***Congrats! Your model is successfully created and ready for deployment on a live server for a real user interaction !!!***"
      ],
      "metadata": {
        "id": "-Kee-DAl2viO"
      }
    },
    {
      "cell_type": "markdown",
      "source": [
        "# **Conclusion**"
      ],
      "metadata": {
        "id": "gCX9965dhzqZ"
      }
    },
    {
      "cell_type": "markdown",
      "source": [
        "Write the conclusion here."
      ],
      "metadata": {
        "id": "Fjb1IsQkh3yE"
      }
    },
    {
      "cell_type": "markdown",
      "source": [
        "### ***Hurrah! You have successfully completed your Machine Learning Capstone Project !!!***"
      ],
      "metadata": {
        "id": "gIfDvo9L0UH2"
      }
    }
  ]
}